{
  "nbformat": 4,
  "nbformat_minor": 0,
  "metadata": {
    "colab": {
      "provenance": [],
      "authorship_tag": "ABX9TyNTuhw/zVM+iGax8mU3nYZy",
      "include_colab_link": true
    },
    "kernelspec": {
      "name": "python3",
      "display_name": "Python 3"
    },
    "language_info": {
      "name": "python"
    }
  },
  "cells": [
    {
      "cell_type": "markdown",
      "metadata": {
        "id": "view-in-github",
        "colab_type": "text"
      },
      "source": [
        "<a href=\"https://colab.research.google.com/github/chaitanyaa1512/Amazon_Web_Scrapping_and_Data_Analysis/blob/main/Amazon_Product_Smart_Locks_Analysis.ipynb\" target=\"_parent\"><img src=\"https://colab.research.google.com/assets/colab-badge.svg\" alt=\"Open In Colab\"/></a>"
      ]
    },
    {
      "cell_type": "code",
      "source": [
        "#importing the relevant libraries\n",
        "import requests\n",
        "from bs4 import BeautifulSoup\n",
        "import pandas as pd\n",
        "import numpy as np\n",
        "import time\n",
        "\n",
        "# URL of the Amazon Smart Locks Web Page\n",
        "url_template = \"https://www.amazon.com/s?k=smart+lock&page={page}&crid=2A0VLCNI653XM&sprefix=smart+lock%2Caps%2C2815&ref=nb_sb_ss_ts-doa-p_2_10\"\n",
        "\n",
        "# Setting up the header for initialising the HTTP request\n",
        "headers = {\n",
        "    \"User-Agent\": \"Mozilla/5.0 (Windows NT 10.0; Win64; x64) AppleWebKit/537.36 (KHTML, like Gecko) Chrome/115.0.0.0 Safari/537.36\",\n",
        "    \"Accept-Language\": \"en-US,en;q=0.9\"\n",
        "}\n",
        "\n",
        "# Creating an empty list to store product details\n",
        "products = []\n",
        "\n",
        "#Running a loop for scraping first 20 pages\n",
        "for page in range(1, 21):\n",
        "    url = url_template.format(page=page)\n",
        "\n",
        "    # HTTP request to fetch the content of the Web Page\n",
        "    response = requests.get(url, headers=headers)\n",
        "\n",
        "    # Checking if the request was successful with no Respinse 503 error\n",
        "    if response.status_code == 200:\n",
        "        # Parsing the content with BeautifulSoup\n",
        "        soup = BeautifulSoup(response.content, \"html.parser\")\n",
        "\n",
        "        # Select the product listings\n",
        "        product_selectors = soup.select(\".s-main-slot .s-result-item\")\n",
        "\n",
        "        # Reiterate over the product listings to extract details\n",
        "        for product in product_selectors:\n",
        "            product_details = {}\n",
        "\n",
        "            # Fetch the Brand Name\n",
        "            title_element = product.find(\"span\", class_=\"a-size-base-plus a-color-base a-text-normal\")\n",
        "            if title_element:\n",
        "                title_text = title_element.text.strip()\n",
        "                product_details[\"Brand Name\"] = title_text.split(\" \")[0]  # Take the first word as brand\n",
        "            else:\n",
        "                product_details[\"Brand Name\"] = \"Not Available\"\n",
        "\n",
        "            # Fetch the Product Price\n",
        "            price_whole = product.find(\"span\", class_=\"a-price-whole\")\n",
        "            price_fraction = product.find(\"span\", class_=\"a-price-fraction\")\n",
        "            if price_whole and price_fraction:\n",
        "                product_details[\"Price\"] = f\"${price_whole.text.strip()}{price_fraction.text.strip()}\"\n",
        "            else:\n",
        "                product_details[\"Price\"] = \"Not Available\"\n",
        "\n",
        "            # fetch the Product Rating\n",
        "            rating = product.find(\"span\", class_=\"a-icon-alt\")\n",
        "            if rating:\n",
        "                product_details[\"Rating\"] = rating.text.strip()\n",
        "            else:\n",
        "                product_details[\"Rating\"] = \"Not Available\"\n",
        "\n",
        "            # Fetch the Rating Count(No. of Ratings)\n",
        "            rating_count = product.find(\"span\", class_=\"a-size-base\")\n",
        "            if rating_count:\n",
        "                product_details[\"Rating Count\"] = rating_count.text.strip()\n",
        "            else:\n",
        "                product_details[\"Rating Count\"] = \"Not Available\"\n",
        "            review_count = product.find(\"span\", class_=\"a-size-base\")\n",
        "\n",
        "            # Fetch the Product (Review count--> since there is no class for review count in the HTML page, hence assuming review count to be same as rating count for Amazon)\n",
        "            if review_count:\n",
        "                product_details[\"Review Count\"] = review_count.text.strip()\n",
        "            else:\n",
        "                product_details[\"Review Count\"] = \"Not Available\"\n",
        "\n",
        "            # Fetch the Product's ranking on the page\n",
        "            product_details[\"Ranking\"] = product.get(\"data-index\", \"N/A\")\n",
        "\n",
        "            # Fetch the Product URL\n",
        "            link = product.find(\"a\", class_=\"a-link-normal s-no-outline\")\n",
        "            if link:\n",
        "                product_details[\"URL\"] = \"https://www.amazon.com\" + link.get(\"href\")\n",
        "            else:\n",
        "                product_details[\"URL\"] = \"Not Available\"\n",
        "\n",
        "            # Adding the product details to the list\n",
        "            products.append(product_details)\n",
        "\n",
        "        # Adding a delay of 2 secs to avoid Amazon server traffic frequently\n",
        "        time.sleep(2)\n",
        "\n",
        "    else:\n",
        "        print(f\"Failed to retrieve page {page}: Status code {response.status_code}\")\n",
        "\n",
        "# Converting the list of dictionaries to a DataFrame\n",
        "df = pd.DataFrame(products)\n",
        "\n",
        "# Cleaning the data by replacing blanks/missing values/NaN with Not Available\n",
        "df['Brand Name'] = df['Brand Name'].replace({\"\": \"Not Available\", np.nan: \"Not Available\"})\n",
        "\n",
        "# Cleaning the price values & rounding float values to int\n",
        "df['Price'] = df['Price'].str.replace('$', '').str.replace(',', '').replace('Not Available', '0').replace('', '0')\n",
        "df['Price'] = df['Price'].astype(float).round().astype(int)\n",
        "\n",
        "# Function to clean and convert the Rating column to float\n",
        "def convert_rating(rating):\n",
        "    try:\n",
        "        return float(rating.split()[0])  # Extract numeric part from the rating string\n",
        "    except (ValueError, AttributeError):\n",
        "        return 0.0  # Return 0.0 for non-numeric or missing values\n",
        "\n",
        "# Conversion to the Rating column\n",
        "df['Rating'] = df['Rating'].apply(convert_rating)\n",
        "\n",
        "# Clean and convert Ranking and Rating Count columns to integers\n",
        "def clean_numeric(value):\n",
        "    try:\n",
        "        return int(value.replace(',', '').strip())\n",
        "    except (ValueError, TypeError):\n",
        "        return 0  # Return 0 for non-numeric or missing values\n",
        "\n",
        "df['Ranking'] = df['Ranking'].apply(clean_numeric)\n",
        "df['Rating Count'] = df['Rating Count'].apply(clean_numeric)\n",
        "\n",
        "# Clean and convert Review Count column to integers\n",
        "df['Review Count'] = df['Review Count'].apply(clean_numeric)\n",
        "\n",
        "# Clean URL: replace missing/blank values with \"Not Available\"\n",
        "df['URL'] = df['URL'].replace({\"\": \"Not Available\", np.nan: \"Not Available\"})\n",
        "\n",
        "# Remove duplicates\n",
        "df = df.drop_duplicates()\n",
        "\n",
        "# Save the cleaned DataFrame to a CSV file\n",
        "cleaned_filename = \"cleaned_smart_lock_data.csv\"\n",
        "df.to_csv(cleaned_filename, index=False, encoding='utf-8')\n",
        "\n",
        "print(f\"Cleaned data saved to {cleaned_filename}\")\n"
      ],
      "metadata": {
        "colab": {
          "base_uri": "https://localhost:8080/"
        },
        "id": "TPNPJRKC2RoJ",
        "outputId": "5d4642f6-f046-4141-dd37-d8c5fa0be8db"
      },
      "execution_count": 19,
      "outputs": [
        {
          "output_type": "stream",
          "name": "stdout",
          "text": [
            "Failed to retrieve page 1: Status code 503\n",
            "Failed to retrieve page 2: Status code 503\n",
            "Failed to retrieve page 3: Status code 503\n",
            "Failed to retrieve page 4: Status code 503\n",
            "Failed to retrieve page 5: Status code 503\n",
            "Failed to retrieve page 6: Status code 503\n",
            "Failed to retrieve page 7: Status code 503\n",
            "Failed to retrieve page 8: Status code 503\n",
            "Failed to retrieve page 9: Status code 503\n",
            "Failed to retrieve page 11: Status code 503\n",
            "Failed to retrieve page 12: Status code 503\n",
            "Failed to retrieve page 13: Status code 503\n",
            "Failed to retrieve page 14: Status code 503\n",
            "Failed to retrieve page 15: Status code 503\n",
            "Failed to retrieve page 16: Status code 503\n",
            "Failed to retrieve page 17: Status code 503\n",
            "Failed to retrieve page 18: Status code 503\n",
            "Failed to retrieve page 19: Status code 503\n",
            "Failed to retrieve page 20: Status code 503\n",
            "Cleaned data saved to cleaned_smart_lock_data.csv\n"
          ]
        }
      ]
    },
    {
      "cell_type": "code",
      "source": [
        "#display the data dimensions\n",
        "df.shape"
      ],
      "metadata": {
        "id": "M7Q79Apo326t",
        "colab": {
          "base_uri": "https://localhost:8080/"
        },
        "outputId": "cf20477f-4cd2-4180-8116-fee4f708e706"
      },
      "execution_count": 20,
      "outputs": [
        {
          "output_type": "execute_result",
          "data": {
            "text/plain": [
              "(7, 7)"
            ]
          },
          "metadata": {},
          "execution_count": 20
        }
      ]
    },
    {
      "cell_type": "code",
      "source": [
        "#load the dataset\n",
        "df=pd.read_csv('/content/cleaned_smart_lock_data_updated.csv')"
      ],
      "metadata": {
        "id": "FiA1Ib8yNurN"
      },
      "execution_count": 33,
      "outputs": []
    },
    {
      "cell_type": "code",
      "source": [
        "#display the first few rows of the data\n",
        "df.head()"
      ],
      "metadata": {
        "colab": {
          "base_uri": "https://localhost:8080/",
          "height": 275
        },
        "id": "nQFRJndMOsMu",
        "outputId": "8b81c7ed-e553-4c1f-9617-72cf484d3336"
      },
      "execution_count": 34,
      "outputs": [
        {
          "output_type": "execute_result",
          "data": {
            "text/plain": [
              "      Brand Name  Price  Price_INR  Rating  Rating Count  Review Count  \\\n",
              "0  Not Available      0          0     4.0             0             0   \n",
              "1  Not Available      0          0     0.0             0             0   \n",
              "2           eufy    150      12600     4.3             0             0   \n",
              "3           eufy     80       6720     4.3          2641          2641   \n",
              "4          TEEHO     33       2772     4.5         14992         14992   \n",
              "\n",
              "   Ranking                                                URL  \n",
              "0        0                                      Not Available  \n",
              "1        1                                      Not Available  \n",
              "2        3  https://www.amazon.com/eufy-Security-Fingerpri...  \n",
              "3        4  https://www.amazon.com/eufy-Security-Deadbolt-...  \n",
              "4        5  https://www.amazon.com/Keyless-Entry-Door-Lock...  "
            ],
            "text/html": [
              "\n",
              "  <div id=\"df-c6f40be3-d77a-4c1a-b9d1-1292fcc158e1\" class=\"colab-df-container\">\n",
              "    <div>\n",
              "<style scoped>\n",
              "    .dataframe tbody tr th:only-of-type {\n",
              "        vertical-align: middle;\n",
              "    }\n",
              "\n",
              "    .dataframe tbody tr th {\n",
              "        vertical-align: top;\n",
              "    }\n",
              "\n",
              "    .dataframe thead th {\n",
              "        text-align: right;\n",
              "    }\n",
              "</style>\n",
              "<table border=\"1\" class=\"dataframe\">\n",
              "  <thead>\n",
              "    <tr style=\"text-align: right;\">\n",
              "      <th></th>\n",
              "      <th>Brand Name</th>\n",
              "      <th>Price</th>\n",
              "      <th>Price_INR</th>\n",
              "      <th>Rating</th>\n",
              "      <th>Rating Count</th>\n",
              "      <th>Review Count</th>\n",
              "      <th>Ranking</th>\n",
              "      <th>URL</th>\n",
              "    </tr>\n",
              "  </thead>\n",
              "  <tbody>\n",
              "    <tr>\n",
              "      <th>0</th>\n",
              "      <td>Not Available</td>\n",
              "      <td>0</td>\n",
              "      <td>0</td>\n",
              "      <td>4.0</td>\n",
              "      <td>0</td>\n",
              "      <td>0</td>\n",
              "      <td>0</td>\n",
              "      <td>Not Available</td>\n",
              "    </tr>\n",
              "    <tr>\n",
              "      <th>1</th>\n",
              "      <td>Not Available</td>\n",
              "      <td>0</td>\n",
              "      <td>0</td>\n",
              "      <td>0.0</td>\n",
              "      <td>0</td>\n",
              "      <td>0</td>\n",
              "      <td>1</td>\n",
              "      <td>Not Available</td>\n",
              "    </tr>\n",
              "    <tr>\n",
              "      <th>2</th>\n",
              "      <td>eufy</td>\n",
              "      <td>150</td>\n",
              "      <td>12600</td>\n",
              "      <td>4.3</td>\n",
              "      <td>0</td>\n",
              "      <td>0</td>\n",
              "      <td>3</td>\n",
              "      <td>https://www.amazon.com/eufy-Security-Fingerpri...</td>\n",
              "    </tr>\n",
              "    <tr>\n",
              "      <th>3</th>\n",
              "      <td>eufy</td>\n",
              "      <td>80</td>\n",
              "      <td>6720</td>\n",
              "      <td>4.3</td>\n",
              "      <td>2641</td>\n",
              "      <td>2641</td>\n",
              "      <td>4</td>\n",
              "      <td>https://www.amazon.com/eufy-Security-Deadbolt-...</td>\n",
              "    </tr>\n",
              "    <tr>\n",
              "      <th>4</th>\n",
              "      <td>TEEHO</td>\n",
              "      <td>33</td>\n",
              "      <td>2772</td>\n",
              "      <td>4.5</td>\n",
              "      <td>14992</td>\n",
              "      <td>14992</td>\n",
              "      <td>5</td>\n",
              "      <td>https://www.amazon.com/Keyless-Entry-Door-Lock...</td>\n",
              "    </tr>\n",
              "  </tbody>\n",
              "</table>\n",
              "</div>\n",
              "    <div class=\"colab-df-buttons\">\n",
              "\n",
              "  <div class=\"colab-df-container\">\n",
              "    <button class=\"colab-df-convert\" onclick=\"convertToInteractive('df-c6f40be3-d77a-4c1a-b9d1-1292fcc158e1')\"\n",
              "            title=\"Convert this dataframe to an interactive table.\"\n",
              "            style=\"display:none;\">\n",
              "\n",
              "  <svg xmlns=\"http://www.w3.org/2000/svg\" height=\"24px\" viewBox=\"0 -960 960 960\">\n",
              "    <path d=\"M120-120v-720h720v720H120Zm60-500h600v-160H180v160Zm220 220h160v-160H400v160Zm0 220h160v-160H400v160ZM180-400h160v-160H180v160Zm440 0h160v-160H620v160ZM180-180h160v-160H180v160Zm440 0h160v-160H620v160Z\"/>\n",
              "  </svg>\n",
              "    </button>\n",
              "\n",
              "  <style>\n",
              "    .colab-df-container {\n",
              "      display:flex;\n",
              "      gap: 12px;\n",
              "    }\n",
              "\n",
              "    .colab-df-convert {\n",
              "      background-color: #E8F0FE;\n",
              "      border: none;\n",
              "      border-radius: 50%;\n",
              "      cursor: pointer;\n",
              "      display: none;\n",
              "      fill: #1967D2;\n",
              "      height: 32px;\n",
              "      padding: 0 0 0 0;\n",
              "      width: 32px;\n",
              "    }\n",
              "\n",
              "    .colab-df-convert:hover {\n",
              "      background-color: #E2EBFA;\n",
              "      box-shadow: 0px 1px 2px rgba(60, 64, 67, 0.3), 0px 1px 3px 1px rgba(60, 64, 67, 0.15);\n",
              "      fill: #174EA6;\n",
              "    }\n",
              "\n",
              "    .colab-df-buttons div {\n",
              "      margin-bottom: 4px;\n",
              "    }\n",
              "\n",
              "    [theme=dark] .colab-df-convert {\n",
              "      background-color: #3B4455;\n",
              "      fill: #D2E3FC;\n",
              "    }\n",
              "\n",
              "    [theme=dark] .colab-df-convert:hover {\n",
              "      background-color: #434B5C;\n",
              "      box-shadow: 0px 1px 3px 1px rgba(0, 0, 0, 0.15);\n",
              "      filter: drop-shadow(0px 1px 2px rgba(0, 0, 0, 0.3));\n",
              "      fill: #FFFFFF;\n",
              "    }\n",
              "  </style>\n",
              "\n",
              "    <script>\n",
              "      const buttonEl =\n",
              "        document.querySelector('#df-c6f40be3-d77a-4c1a-b9d1-1292fcc158e1 button.colab-df-convert');\n",
              "      buttonEl.style.display =\n",
              "        google.colab.kernel.accessAllowed ? 'block' : 'none';\n",
              "\n",
              "      async function convertToInteractive(key) {\n",
              "        const element = document.querySelector('#df-c6f40be3-d77a-4c1a-b9d1-1292fcc158e1');\n",
              "        const dataTable =\n",
              "          await google.colab.kernel.invokeFunction('convertToInteractive',\n",
              "                                                    [key], {});\n",
              "        if (!dataTable) return;\n",
              "\n",
              "        const docLinkHtml = 'Like what you see? Visit the ' +\n",
              "          '<a target=\"_blank\" href=https://colab.research.google.com/notebooks/data_table.ipynb>data table notebook</a>'\n",
              "          + ' to learn more about interactive tables.';\n",
              "        element.innerHTML = '';\n",
              "        dataTable['output_type'] = 'display_data';\n",
              "        await google.colab.output.renderOutput(dataTable, element);\n",
              "        const docLink = document.createElement('div');\n",
              "        docLink.innerHTML = docLinkHtml;\n",
              "        element.appendChild(docLink);\n",
              "      }\n",
              "    </script>\n",
              "  </div>\n",
              "\n",
              "\n",
              "<div id=\"df-f45ddcae-0531-41c7-9f5b-ebfa83f4a931\">\n",
              "  <button class=\"colab-df-quickchart\" onclick=\"quickchart('df-f45ddcae-0531-41c7-9f5b-ebfa83f4a931')\"\n",
              "            title=\"Suggest charts\"\n",
              "            style=\"display:none;\">\n",
              "\n",
              "<svg xmlns=\"http://www.w3.org/2000/svg\" height=\"24px\"viewBox=\"0 0 24 24\"\n",
              "     width=\"24px\">\n",
              "    <g>\n",
              "        <path d=\"M19 3H5c-1.1 0-2 .9-2 2v14c0 1.1.9 2 2 2h14c1.1 0 2-.9 2-2V5c0-1.1-.9-2-2-2zM9 17H7v-7h2v7zm4 0h-2V7h2v10zm4 0h-2v-4h2v4z\"/>\n",
              "    </g>\n",
              "</svg>\n",
              "  </button>\n",
              "\n",
              "<style>\n",
              "  .colab-df-quickchart {\n",
              "      --bg-color: #E8F0FE;\n",
              "      --fill-color: #1967D2;\n",
              "      --hover-bg-color: #E2EBFA;\n",
              "      --hover-fill-color: #174EA6;\n",
              "      --disabled-fill-color: #AAA;\n",
              "      --disabled-bg-color: #DDD;\n",
              "  }\n",
              "\n",
              "  [theme=dark] .colab-df-quickchart {\n",
              "      --bg-color: #3B4455;\n",
              "      --fill-color: #D2E3FC;\n",
              "      --hover-bg-color: #434B5C;\n",
              "      --hover-fill-color: #FFFFFF;\n",
              "      --disabled-bg-color: #3B4455;\n",
              "      --disabled-fill-color: #666;\n",
              "  }\n",
              "\n",
              "  .colab-df-quickchart {\n",
              "    background-color: var(--bg-color);\n",
              "    border: none;\n",
              "    border-radius: 50%;\n",
              "    cursor: pointer;\n",
              "    display: none;\n",
              "    fill: var(--fill-color);\n",
              "    height: 32px;\n",
              "    padding: 0;\n",
              "    width: 32px;\n",
              "  }\n",
              "\n",
              "  .colab-df-quickchart:hover {\n",
              "    background-color: var(--hover-bg-color);\n",
              "    box-shadow: 0 1px 2px rgba(60, 64, 67, 0.3), 0 1px 3px 1px rgba(60, 64, 67, 0.15);\n",
              "    fill: var(--button-hover-fill-color);\n",
              "  }\n",
              "\n",
              "  .colab-df-quickchart-complete:disabled,\n",
              "  .colab-df-quickchart-complete:disabled:hover {\n",
              "    background-color: var(--disabled-bg-color);\n",
              "    fill: var(--disabled-fill-color);\n",
              "    box-shadow: none;\n",
              "  }\n",
              "\n",
              "  .colab-df-spinner {\n",
              "    border: 2px solid var(--fill-color);\n",
              "    border-color: transparent;\n",
              "    border-bottom-color: var(--fill-color);\n",
              "    animation:\n",
              "      spin 1s steps(1) infinite;\n",
              "  }\n",
              "\n",
              "  @keyframes spin {\n",
              "    0% {\n",
              "      border-color: transparent;\n",
              "      border-bottom-color: var(--fill-color);\n",
              "      border-left-color: var(--fill-color);\n",
              "    }\n",
              "    20% {\n",
              "      border-color: transparent;\n",
              "      border-left-color: var(--fill-color);\n",
              "      border-top-color: var(--fill-color);\n",
              "    }\n",
              "    30% {\n",
              "      border-color: transparent;\n",
              "      border-left-color: var(--fill-color);\n",
              "      border-top-color: var(--fill-color);\n",
              "      border-right-color: var(--fill-color);\n",
              "    }\n",
              "    40% {\n",
              "      border-color: transparent;\n",
              "      border-right-color: var(--fill-color);\n",
              "      border-top-color: var(--fill-color);\n",
              "    }\n",
              "    60% {\n",
              "      border-color: transparent;\n",
              "      border-right-color: var(--fill-color);\n",
              "    }\n",
              "    80% {\n",
              "      border-color: transparent;\n",
              "      border-right-color: var(--fill-color);\n",
              "      border-bottom-color: var(--fill-color);\n",
              "    }\n",
              "    90% {\n",
              "      border-color: transparent;\n",
              "      border-bottom-color: var(--fill-color);\n",
              "    }\n",
              "  }\n",
              "</style>\n",
              "\n",
              "  <script>\n",
              "    async function quickchart(key) {\n",
              "      const quickchartButtonEl =\n",
              "        document.querySelector('#' + key + ' button');\n",
              "      quickchartButtonEl.disabled = true;  // To prevent multiple clicks.\n",
              "      quickchartButtonEl.classList.add('colab-df-spinner');\n",
              "      try {\n",
              "        const charts = await google.colab.kernel.invokeFunction(\n",
              "            'suggestCharts', [key], {});\n",
              "      } catch (error) {\n",
              "        console.error('Error during call to suggestCharts:', error);\n",
              "      }\n",
              "      quickchartButtonEl.classList.remove('colab-df-spinner');\n",
              "      quickchartButtonEl.classList.add('colab-df-quickchart-complete');\n",
              "    }\n",
              "    (() => {\n",
              "      let quickchartButtonEl =\n",
              "        document.querySelector('#df-f45ddcae-0531-41c7-9f5b-ebfa83f4a931 button');\n",
              "      quickchartButtonEl.style.display =\n",
              "        google.colab.kernel.accessAllowed ? 'block' : 'none';\n",
              "    })();\n",
              "  </script>\n",
              "</div>\n",
              "\n",
              "    </div>\n",
              "  </div>\n"
            ],
            "application/vnd.google.colaboratory.intrinsic+json": {
              "type": "dataframe",
              "variable_name": "df",
              "summary": "{\n  \"name\": \"df\",\n  \"rows\": 295,\n  \"fields\": [\n    {\n      \"column\": \"Brand Name\",\n      \"properties\": {\n        \"dtype\": \"category\",\n        \"num_unique_values\": 55,\n        \"samples\": [\n          \"Proscenic\",\n          \"August\",\n          \"Honeywell\"\n        ],\n        \"semantic_type\": \"\",\n        \"description\": \"\"\n      }\n    },\n    {\n      \"column\": \"Price\",\n      \"properties\": {\n        \"dtype\": \"number\",\n        \"std\": 91,\n        \"min\": 0,\n        \"max\": 410,\n        \"num_unique_values\": 83,\n        \"samples\": [\n          99,\n          0,\n          138\n        ],\n        \"semantic_type\": \"\",\n        \"description\": \"\"\n      }\n    },\n    {\n      \"column\": \"Price_INR\",\n      \"properties\": {\n        \"dtype\": \"number\",\n        \"std\": 7676,\n        \"min\": 0,\n        \"max\": 34440,\n        \"num_unique_values\": 83,\n        \"samples\": [\n          8316,\n          0,\n          11592\n        ],\n        \"semantic_type\": \"\",\n        \"description\": \"\"\n      }\n    },\n    {\n      \"column\": \"Rating\",\n      \"properties\": {\n        \"dtype\": \"number\",\n        \"std\": 1.4724306828375857,\n        \"min\": 0.0,\n        \"max\": 5.0,\n        \"num_unique_values\": 22,\n        \"samples\": [\n          4.0,\n          3.9,\n          4.6\n        ],\n        \"semantic_type\": \"\",\n        \"description\": \"\"\n      }\n    },\n    {\n      \"column\": \"Rating Count\",\n      \"properties\": {\n        \"dtype\": \"number\",\n        \"std\": 2795,\n        \"min\": 0,\n        \"max\": 17929,\n        \"num_unique_values\": 168,\n        \"samples\": [\n          70,\n          93,\n          30\n        ],\n        \"semantic_type\": \"\",\n        \"description\": \"\"\n      }\n    },\n    {\n      \"column\": \"Review Count\",\n      \"properties\": {\n        \"dtype\": \"number\",\n        \"std\": 2795,\n        \"min\": 0,\n        \"max\": 17929,\n        \"num_unique_values\": 168,\n        \"samples\": [\n          70,\n          93,\n          30\n        ],\n        \"semantic_type\": \"\",\n        \"description\": \"\"\n      }\n    },\n    {\n      \"column\": \"Ranking\",\n      \"properties\": {\n        \"dtype\": \"number\",\n        \"std\": 14,\n        \"min\": 0,\n        \"max\": 58,\n        \"num_unique_values\": 59,\n        \"samples\": [\n          0,\n          7,\n          35\n        ],\n        \"semantic_type\": \"\",\n        \"description\": \"\"\n      }\n    },\n    {\n      \"column\": \"URL\",\n      \"properties\": {\n        \"dtype\": \"string\",\n        \"num_unique_values\": 261,\n        \"samples\": [\n          \"https://www.amazon.com/Kwikset-Single-Cylinder-Deadbolt-SmartKey/dp/B003APS8GK/ref=sr_1_59?crid=2A0VLCNI653XM&dib=eyJ2IjoiMSJ9.1cS6p9lRNT6emmJLf_qKZyJnXRjlnTKRKA28eL7wqI6vpND1bcbQbYS2BZLAgwaLrQq7ylOBpsvXyXocU7voG-mk0tMLpnIbVZ9KRMicEnJwtvB8rh7YbE5MMv7jPjwQi-8UmN_-QxNJARAJ3-HYDhPm9012qGtZak7Wx9DeLbYlHqV4esW4CVkSZScPc0mw8pgHtOvxlYQyqLR8ZA1NdLr1HNhoAiOknAa_dofr4uugwJ_xboPatWlGmok4hC4CqPu9aTFNSmmmKiBTwFqejmKarbp2vwmzysqrW6Q8UuE.QIoV7KNfM1M9bLDCRoCtkNzK4etNJlIyqk-sA9VuOjg&dib_tag=se&keywords=smart+lock&qid=1725439417&sprefix=smart+lock%2Caps%2C2815&sr=8-59\",\n          \"https://www.amazon.com/WiseGear-Keyless-Deadbolt-Fingerprint-Electronic/dp/B0D148W6RN/ref=sr_1_202?crid=2A0VLCNI653XM&dib=eyJ2IjoiMSJ9.P-0h_iTZZqfn3kmwrvD7YLnvS356vQrWW1NHX5B-0Ru4xak3fYMWB4ZgEXUUiTYbOZlm8iDEQfyjiOSQbp6lWuhUfh46VkdJ1zWvEZF-OLoRVYI7JyOfzwi2Rgf4cWbWf0TKxF5IfdCyqp3AkrIDHTAkjjswBi9NdwbUiHwx_7hfQgaByVYPrtZ_0833FHa7tCIYYRdQjg9cwlBlLK4IGXDYRXjiMk6AGHZDPeYHLUs.Au5nS-n3kzGSMgow9N8zcjR6vcdbjZT_WEuoSJ4BW0U&dib_tag=se&keywords=smart+lock&qid=1725439428&sprefix=smart+lock%2Caps%2C2815&sr=8-202\",\n          \"https://www.amazon.com/Keypad-Door-Lock-Handlesets-Hornbill/dp/B0CJC447SJ/ref=sr_1_260?crid=2A0VLCNI653XM&dib=eyJ2IjoiMSJ9.iHPO20jbowHA9TImGoyFzNgCINq0RWxEJWApZUBOGYM3wrmhndhxhi8YFQK3CVSvwU5B_30GjXHCbFcwMsKqnDgc2yOfF-z9Dm267hgOCyQLasTKsx23Lf0SHD6Ia8coV_SSBebq0zcXXduiHHFLqQKyG8G3Mos7-w_y9ooE9OqpfINWtqsTpavaavrit_nSbNLAGx7E92nrpEAHc5fE1ud9OWD5k7cuvRWXdY0QyhW3h1F_xfInaYFGvTY0Ky-8TgyvDVApG5Dvgrq5-3yAn3n3OcY6m96neTEzPJa8rRQ.JvyPs5urEjlMCW8rf_1YC1F5HtUnCO1JNKCmqwrp3dY&dib_tag=se&keywords=smart+lock&qid=1725439431&sprefix=smart+lock%2Caps%2C2815&sr=8-260\"\n        ],\n        \"semantic_type\": \"\",\n        \"description\": \"\"\n      }\n    }\n  ]\n}"
            }
          },
          "metadata": {},
          "execution_count": 34
        }
      ]
    },
    {
      "cell_type": "code",
      "source": [
        "#display the data dimesions\n",
        "df.shape"
      ],
      "metadata": {
        "colab": {
          "base_uri": "https://localhost:8080/"
        },
        "id": "aGHMYLWuOugY",
        "outputId": "8cf65dbe-3b38-4eba-e8ac-6c4ad2b55411"
      },
      "execution_count": 35,
      "outputs": [
        {
          "output_type": "execute_result",
          "data": {
            "text/plain": [
              "(295, 8)"
            ]
          },
          "metadata": {},
          "execution_count": 35
        }
      ]
    },
    {
      "cell_type": "code",
      "source": [
        "#display the dataframe info\n",
        "df.info()"
      ],
      "metadata": {
        "colab": {
          "base_uri": "https://localhost:8080/"
        },
        "id": "fk4IBo7tOyHW",
        "outputId": "42d6ed21-9fe8-424d-eab8-b82f5fd4b8b8"
      },
      "execution_count": 36,
      "outputs": [
        {
          "output_type": "stream",
          "name": "stdout",
          "text": [
            "<class 'pandas.core.frame.DataFrame'>\n",
            "RangeIndex: 295 entries, 0 to 294\n",
            "Data columns (total 8 columns):\n",
            " #   Column        Non-Null Count  Dtype  \n",
            "---  ------        --------------  -----  \n",
            " 0   Brand Name    295 non-null    object \n",
            " 1   Price         295 non-null    int64  \n",
            " 2   Price_INR     295 non-null    int64  \n",
            " 3   Rating        295 non-null    float64\n",
            " 4   Rating Count  295 non-null    int64  \n",
            " 5   Review Count  295 non-null    int64  \n",
            " 6   Ranking       295 non-null    int64  \n",
            " 7   URL           295 non-null    object \n",
            "dtypes: float64(1), int64(5), object(2)\n",
            "memory usage: 18.6+ KB\n"
          ]
        }
      ]
    },
    {
      "cell_type": "code",
      "source": [
        "import sqlite3\n",
        "import pandas as pd\n",
        "\n",
        "# Load the dataset\n",
        "df = pd.read_csv(\"/content/cleaned_smart_lock_data_updated.csv\")\n",
        "\n",
        "# Display the first few rows of the dataset\n",
        "df.head()"
      ],
      "metadata": {
        "colab": {
          "base_uri": "https://localhost:8080/",
          "height": 275
        },
        "id": "coFrlt4KO0LL",
        "outputId": "b3e99881-b4ac-4b5f-9f40-404c08ea91d0"
      },
      "execution_count": 40,
      "outputs": [
        {
          "output_type": "execute_result",
          "data": {
            "text/plain": [
              "      Brand Name  Price  Price_INR  Rating  Rating Count  Review Count  \\\n",
              "0  Not Available      0          0     4.0             0             0   \n",
              "1  Not Available      0          0     0.0             0             0   \n",
              "2           eufy    150      12600     4.3             0             0   \n",
              "3           eufy     80       6720     4.3          2641          2641   \n",
              "4          TEEHO     33       2772     4.5         14992         14992   \n",
              "\n",
              "   Ranking                                                URL  \n",
              "0        0                                      Not Available  \n",
              "1        1                                      Not Available  \n",
              "2        3  https://www.amazon.com/eufy-Security-Fingerpri...  \n",
              "3        4  https://www.amazon.com/eufy-Security-Deadbolt-...  \n",
              "4        5  https://www.amazon.com/Keyless-Entry-Door-Lock...  "
            ],
            "text/html": [
              "\n",
              "  <div id=\"df-fa78bf89-ef87-42c1-975e-78f17a7cc01a\" class=\"colab-df-container\">\n",
              "    <div>\n",
              "<style scoped>\n",
              "    .dataframe tbody tr th:only-of-type {\n",
              "        vertical-align: middle;\n",
              "    }\n",
              "\n",
              "    .dataframe tbody tr th {\n",
              "        vertical-align: top;\n",
              "    }\n",
              "\n",
              "    .dataframe thead th {\n",
              "        text-align: right;\n",
              "    }\n",
              "</style>\n",
              "<table border=\"1\" class=\"dataframe\">\n",
              "  <thead>\n",
              "    <tr style=\"text-align: right;\">\n",
              "      <th></th>\n",
              "      <th>Brand Name</th>\n",
              "      <th>Price</th>\n",
              "      <th>Price_INR</th>\n",
              "      <th>Rating</th>\n",
              "      <th>Rating Count</th>\n",
              "      <th>Review Count</th>\n",
              "      <th>Ranking</th>\n",
              "      <th>URL</th>\n",
              "    </tr>\n",
              "  </thead>\n",
              "  <tbody>\n",
              "    <tr>\n",
              "      <th>0</th>\n",
              "      <td>Not Available</td>\n",
              "      <td>0</td>\n",
              "      <td>0</td>\n",
              "      <td>4.0</td>\n",
              "      <td>0</td>\n",
              "      <td>0</td>\n",
              "      <td>0</td>\n",
              "      <td>Not Available</td>\n",
              "    </tr>\n",
              "    <tr>\n",
              "      <th>1</th>\n",
              "      <td>Not Available</td>\n",
              "      <td>0</td>\n",
              "      <td>0</td>\n",
              "      <td>0.0</td>\n",
              "      <td>0</td>\n",
              "      <td>0</td>\n",
              "      <td>1</td>\n",
              "      <td>Not Available</td>\n",
              "    </tr>\n",
              "    <tr>\n",
              "      <th>2</th>\n",
              "      <td>eufy</td>\n",
              "      <td>150</td>\n",
              "      <td>12600</td>\n",
              "      <td>4.3</td>\n",
              "      <td>0</td>\n",
              "      <td>0</td>\n",
              "      <td>3</td>\n",
              "      <td>https://www.amazon.com/eufy-Security-Fingerpri...</td>\n",
              "    </tr>\n",
              "    <tr>\n",
              "      <th>3</th>\n",
              "      <td>eufy</td>\n",
              "      <td>80</td>\n",
              "      <td>6720</td>\n",
              "      <td>4.3</td>\n",
              "      <td>2641</td>\n",
              "      <td>2641</td>\n",
              "      <td>4</td>\n",
              "      <td>https://www.amazon.com/eufy-Security-Deadbolt-...</td>\n",
              "    </tr>\n",
              "    <tr>\n",
              "      <th>4</th>\n",
              "      <td>TEEHO</td>\n",
              "      <td>33</td>\n",
              "      <td>2772</td>\n",
              "      <td>4.5</td>\n",
              "      <td>14992</td>\n",
              "      <td>14992</td>\n",
              "      <td>5</td>\n",
              "      <td>https://www.amazon.com/Keyless-Entry-Door-Lock...</td>\n",
              "    </tr>\n",
              "  </tbody>\n",
              "</table>\n",
              "</div>\n",
              "    <div class=\"colab-df-buttons\">\n",
              "\n",
              "  <div class=\"colab-df-container\">\n",
              "    <button class=\"colab-df-convert\" onclick=\"convertToInteractive('df-fa78bf89-ef87-42c1-975e-78f17a7cc01a')\"\n",
              "            title=\"Convert this dataframe to an interactive table.\"\n",
              "            style=\"display:none;\">\n",
              "\n",
              "  <svg xmlns=\"http://www.w3.org/2000/svg\" height=\"24px\" viewBox=\"0 -960 960 960\">\n",
              "    <path d=\"M120-120v-720h720v720H120Zm60-500h600v-160H180v160Zm220 220h160v-160H400v160Zm0 220h160v-160H400v160ZM180-400h160v-160H180v160Zm440 0h160v-160H620v160ZM180-180h160v-160H180v160Zm440 0h160v-160H620v160Z\"/>\n",
              "  </svg>\n",
              "    </button>\n",
              "\n",
              "  <style>\n",
              "    .colab-df-container {\n",
              "      display:flex;\n",
              "      gap: 12px;\n",
              "    }\n",
              "\n",
              "    .colab-df-convert {\n",
              "      background-color: #E8F0FE;\n",
              "      border: none;\n",
              "      border-radius: 50%;\n",
              "      cursor: pointer;\n",
              "      display: none;\n",
              "      fill: #1967D2;\n",
              "      height: 32px;\n",
              "      padding: 0 0 0 0;\n",
              "      width: 32px;\n",
              "    }\n",
              "\n",
              "    .colab-df-convert:hover {\n",
              "      background-color: #E2EBFA;\n",
              "      box-shadow: 0px 1px 2px rgba(60, 64, 67, 0.3), 0px 1px 3px 1px rgba(60, 64, 67, 0.15);\n",
              "      fill: #174EA6;\n",
              "    }\n",
              "\n",
              "    .colab-df-buttons div {\n",
              "      margin-bottom: 4px;\n",
              "    }\n",
              "\n",
              "    [theme=dark] .colab-df-convert {\n",
              "      background-color: #3B4455;\n",
              "      fill: #D2E3FC;\n",
              "    }\n",
              "\n",
              "    [theme=dark] .colab-df-convert:hover {\n",
              "      background-color: #434B5C;\n",
              "      box-shadow: 0px 1px 3px 1px rgba(0, 0, 0, 0.15);\n",
              "      filter: drop-shadow(0px 1px 2px rgba(0, 0, 0, 0.3));\n",
              "      fill: #FFFFFF;\n",
              "    }\n",
              "  </style>\n",
              "\n",
              "    <script>\n",
              "      const buttonEl =\n",
              "        document.querySelector('#df-fa78bf89-ef87-42c1-975e-78f17a7cc01a button.colab-df-convert');\n",
              "      buttonEl.style.display =\n",
              "        google.colab.kernel.accessAllowed ? 'block' : 'none';\n",
              "\n",
              "      async function convertToInteractive(key) {\n",
              "        const element = document.querySelector('#df-fa78bf89-ef87-42c1-975e-78f17a7cc01a');\n",
              "        const dataTable =\n",
              "          await google.colab.kernel.invokeFunction('convertToInteractive',\n",
              "                                                    [key], {});\n",
              "        if (!dataTable) return;\n",
              "\n",
              "        const docLinkHtml = 'Like what you see? Visit the ' +\n",
              "          '<a target=\"_blank\" href=https://colab.research.google.com/notebooks/data_table.ipynb>data table notebook</a>'\n",
              "          + ' to learn more about interactive tables.';\n",
              "        element.innerHTML = '';\n",
              "        dataTable['output_type'] = 'display_data';\n",
              "        await google.colab.output.renderOutput(dataTable, element);\n",
              "        const docLink = document.createElement('div');\n",
              "        docLink.innerHTML = docLinkHtml;\n",
              "        element.appendChild(docLink);\n",
              "      }\n",
              "    </script>\n",
              "  </div>\n",
              "\n",
              "\n",
              "<div id=\"df-44f65189-e48c-4518-b327-0d9b40ac22cb\">\n",
              "  <button class=\"colab-df-quickchart\" onclick=\"quickchart('df-44f65189-e48c-4518-b327-0d9b40ac22cb')\"\n",
              "            title=\"Suggest charts\"\n",
              "            style=\"display:none;\">\n",
              "\n",
              "<svg xmlns=\"http://www.w3.org/2000/svg\" height=\"24px\"viewBox=\"0 0 24 24\"\n",
              "     width=\"24px\">\n",
              "    <g>\n",
              "        <path d=\"M19 3H5c-1.1 0-2 .9-2 2v14c0 1.1.9 2 2 2h14c1.1 0 2-.9 2-2V5c0-1.1-.9-2-2-2zM9 17H7v-7h2v7zm4 0h-2V7h2v10zm4 0h-2v-4h2v4z\"/>\n",
              "    </g>\n",
              "</svg>\n",
              "  </button>\n",
              "\n",
              "<style>\n",
              "  .colab-df-quickchart {\n",
              "      --bg-color: #E8F0FE;\n",
              "      --fill-color: #1967D2;\n",
              "      --hover-bg-color: #E2EBFA;\n",
              "      --hover-fill-color: #174EA6;\n",
              "      --disabled-fill-color: #AAA;\n",
              "      --disabled-bg-color: #DDD;\n",
              "  }\n",
              "\n",
              "  [theme=dark] .colab-df-quickchart {\n",
              "      --bg-color: #3B4455;\n",
              "      --fill-color: #D2E3FC;\n",
              "      --hover-bg-color: #434B5C;\n",
              "      --hover-fill-color: #FFFFFF;\n",
              "      --disabled-bg-color: #3B4455;\n",
              "      --disabled-fill-color: #666;\n",
              "  }\n",
              "\n",
              "  .colab-df-quickchart {\n",
              "    background-color: var(--bg-color);\n",
              "    border: none;\n",
              "    border-radius: 50%;\n",
              "    cursor: pointer;\n",
              "    display: none;\n",
              "    fill: var(--fill-color);\n",
              "    height: 32px;\n",
              "    padding: 0;\n",
              "    width: 32px;\n",
              "  }\n",
              "\n",
              "  .colab-df-quickchart:hover {\n",
              "    background-color: var(--hover-bg-color);\n",
              "    box-shadow: 0 1px 2px rgba(60, 64, 67, 0.3), 0 1px 3px 1px rgba(60, 64, 67, 0.15);\n",
              "    fill: var(--button-hover-fill-color);\n",
              "  }\n",
              "\n",
              "  .colab-df-quickchart-complete:disabled,\n",
              "  .colab-df-quickchart-complete:disabled:hover {\n",
              "    background-color: var(--disabled-bg-color);\n",
              "    fill: var(--disabled-fill-color);\n",
              "    box-shadow: none;\n",
              "  }\n",
              "\n",
              "  .colab-df-spinner {\n",
              "    border: 2px solid var(--fill-color);\n",
              "    border-color: transparent;\n",
              "    border-bottom-color: var(--fill-color);\n",
              "    animation:\n",
              "      spin 1s steps(1) infinite;\n",
              "  }\n",
              "\n",
              "  @keyframes spin {\n",
              "    0% {\n",
              "      border-color: transparent;\n",
              "      border-bottom-color: var(--fill-color);\n",
              "      border-left-color: var(--fill-color);\n",
              "    }\n",
              "    20% {\n",
              "      border-color: transparent;\n",
              "      border-left-color: var(--fill-color);\n",
              "      border-top-color: var(--fill-color);\n",
              "    }\n",
              "    30% {\n",
              "      border-color: transparent;\n",
              "      border-left-color: var(--fill-color);\n",
              "      border-top-color: var(--fill-color);\n",
              "      border-right-color: var(--fill-color);\n",
              "    }\n",
              "    40% {\n",
              "      border-color: transparent;\n",
              "      border-right-color: var(--fill-color);\n",
              "      border-top-color: var(--fill-color);\n",
              "    }\n",
              "    60% {\n",
              "      border-color: transparent;\n",
              "      border-right-color: var(--fill-color);\n",
              "    }\n",
              "    80% {\n",
              "      border-color: transparent;\n",
              "      border-right-color: var(--fill-color);\n",
              "      border-bottom-color: var(--fill-color);\n",
              "    }\n",
              "    90% {\n",
              "      border-color: transparent;\n",
              "      border-bottom-color: var(--fill-color);\n",
              "    }\n",
              "  }\n",
              "</style>\n",
              "\n",
              "  <script>\n",
              "    async function quickchart(key) {\n",
              "      const quickchartButtonEl =\n",
              "        document.querySelector('#' + key + ' button');\n",
              "      quickchartButtonEl.disabled = true;  // To prevent multiple clicks.\n",
              "      quickchartButtonEl.classList.add('colab-df-spinner');\n",
              "      try {\n",
              "        const charts = await google.colab.kernel.invokeFunction(\n",
              "            'suggestCharts', [key], {});\n",
              "      } catch (error) {\n",
              "        console.error('Error during call to suggestCharts:', error);\n",
              "      }\n",
              "      quickchartButtonEl.classList.remove('colab-df-spinner');\n",
              "      quickchartButtonEl.classList.add('colab-df-quickchart-complete');\n",
              "    }\n",
              "    (() => {\n",
              "      let quickchartButtonEl =\n",
              "        document.querySelector('#df-44f65189-e48c-4518-b327-0d9b40ac22cb button');\n",
              "      quickchartButtonEl.style.display =\n",
              "        google.colab.kernel.accessAllowed ? 'block' : 'none';\n",
              "    })();\n",
              "  </script>\n",
              "</div>\n",
              "\n",
              "    </div>\n",
              "  </div>\n"
            ],
            "application/vnd.google.colaboratory.intrinsic+json": {
              "type": "dataframe",
              "variable_name": "df",
              "summary": "{\n  \"name\": \"df\",\n  \"rows\": 295,\n  \"fields\": [\n    {\n      \"column\": \"Brand Name\",\n      \"properties\": {\n        \"dtype\": \"category\",\n        \"num_unique_values\": 55,\n        \"samples\": [\n          \"Proscenic\",\n          \"August\",\n          \"Honeywell\"\n        ],\n        \"semantic_type\": \"\",\n        \"description\": \"\"\n      }\n    },\n    {\n      \"column\": \"Price\",\n      \"properties\": {\n        \"dtype\": \"number\",\n        \"std\": 91,\n        \"min\": 0,\n        \"max\": 410,\n        \"num_unique_values\": 83,\n        \"samples\": [\n          99,\n          0,\n          138\n        ],\n        \"semantic_type\": \"\",\n        \"description\": \"\"\n      }\n    },\n    {\n      \"column\": \"Price_INR\",\n      \"properties\": {\n        \"dtype\": \"number\",\n        \"std\": 7676,\n        \"min\": 0,\n        \"max\": 34440,\n        \"num_unique_values\": 83,\n        \"samples\": [\n          8316,\n          0,\n          11592\n        ],\n        \"semantic_type\": \"\",\n        \"description\": \"\"\n      }\n    },\n    {\n      \"column\": \"Rating\",\n      \"properties\": {\n        \"dtype\": \"number\",\n        \"std\": 1.4724306828375857,\n        \"min\": 0.0,\n        \"max\": 5.0,\n        \"num_unique_values\": 22,\n        \"samples\": [\n          4.0,\n          3.9,\n          4.6\n        ],\n        \"semantic_type\": \"\",\n        \"description\": \"\"\n      }\n    },\n    {\n      \"column\": \"Rating Count\",\n      \"properties\": {\n        \"dtype\": \"number\",\n        \"std\": 2795,\n        \"min\": 0,\n        \"max\": 17929,\n        \"num_unique_values\": 168,\n        \"samples\": [\n          70,\n          93,\n          30\n        ],\n        \"semantic_type\": \"\",\n        \"description\": \"\"\n      }\n    },\n    {\n      \"column\": \"Review Count\",\n      \"properties\": {\n        \"dtype\": \"number\",\n        \"std\": 2795,\n        \"min\": 0,\n        \"max\": 17929,\n        \"num_unique_values\": 168,\n        \"samples\": [\n          70,\n          93,\n          30\n        ],\n        \"semantic_type\": \"\",\n        \"description\": \"\"\n      }\n    },\n    {\n      \"column\": \"Ranking\",\n      \"properties\": {\n        \"dtype\": \"number\",\n        \"std\": 14,\n        \"min\": 0,\n        \"max\": 58,\n        \"num_unique_values\": 59,\n        \"samples\": [\n          0,\n          7,\n          35\n        ],\n        \"semantic_type\": \"\",\n        \"description\": \"\"\n      }\n    },\n    {\n      \"column\": \"URL\",\n      \"properties\": {\n        \"dtype\": \"string\",\n        \"num_unique_values\": 261,\n        \"samples\": [\n          \"https://www.amazon.com/Kwikset-Single-Cylinder-Deadbolt-SmartKey/dp/B003APS8GK/ref=sr_1_59?crid=2A0VLCNI653XM&dib=eyJ2IjoiMSJ9.1cS6p9lRNT6emmJLf_qKZyJnXRjlnTKRKA28eL7wqI6vpND1bcbQbYS2BZLAgwaLrQq7ylOBpsvXyXocU7voG-mk0tMLpnIbVZ9KRMicEnJwtvB8rh7YbE5MMv7jPjwQi-8UmN_-QxNJARAJ3-HYDhPm9012qGtZak7Wx9DeLbYlHqV4esW4CVkSZScPc0mw8pgHtOvxlYQyqLR8ZA1NdLr1HNhoAiOknAa_dofr4uugwJ_xboPatWlGmok4hC4CqPu9aTFNSmmmKiBTwFqejmKarbp2vwmzysqrW6Q8UuE.QIoV7KNfM1M9bLDCRoCtkNzK4etNJlIyqk-sA9VuOjg&dib_tag=se&keywords=smart+lock&qid=1725439417&sprefix=smart+lock%2Caps%2C2815&sr=8-59\",\n          \"https://www.amazon.com/WiseGear-Keyless-Deadbolt-Fingerprint-Electronic/dp/B0D148W6RN/ref=sr_1_202?crid=2A0VLCNI653XM&dib=eyJ2IjoiMSJ9.P-0h_iTZZqfn3kmwrvD7YLnvS356vQrWW1NHX5B-0Ru4xak3fYMWB4ZgEXUUiTYbOZlm8iDEQfyjiOSQbp6lWuhUfh46VkdJ1zWvEZF-OLoRVYI7JyOfzwi2Rgf4cWbWf0TKxF5IfdCyqp3AkrIDHTAkjjswBi9NdwbUiHwx_7hfQgaByVYPrtZ_0833FHa7tCIYYRdQjg9cwlBlLK4IGXDYRXjiMk6AGHZDPeYHLUs.Au5nS-n3kzGSMgow9N8zcjR6vcdbjZT_WEuoSJ4BW0U&dib_tag=se&keywords=smart+lock&qid=1725439428&sprefix=smart+lock%2Caps%2C2815&sr=8-202\",\n          \"https://www.amazon.com/Keypad-Door-Lock-Handlesets-Hornbill/dp/B0CJC447SJ/ref=sr_1_260?crid=2A0VLCNI653XM&dib=eyJ2IjoiMSJ9.iHPO20jbowHA9TImGoyFzNgCINq0RWxEJWApZUBOGYM3wrmhndhxhi8YFQK3CVSvwU5B_30GjXHCbFcwMsKqnDgc2yOfF-z9Dm267hgOCyQLasTKsx23Lf0SHD6Ia8coV_SSBebq0zcXXduiHHFLqQKyG8G3Mos7-w_y9ooE9OqpfINWtqsTpavaavrit_nSbNLAGx7E92nrpEAHc5fE1ud9OWD5k7cuvRWXdY0QyhW3h1F_xfInaYFGvTY0Ky-8TgyvDVApG5Dvgrq5-3yAn3n3OcY6m96neTEzPJa8rRQ.JvyPs5urEjlMCW8rf_1YC1F5HtUnCO1JNKCmqwrp3dY&dib_tag=se&keywords=smart+lock&qid=1725439431&sprefix=smart+lock%2Caps%2C2815&sr=8-260\"\n        ],\n        \"semantic_type\": \"\",\n        \"description\": \"\"\n      }\n    }\n  ]\n}"
            }
          },
          "metadata": {},
          "execution_count": 40
        }
      ]
    },
    {
      "cell_type": "code",
      "source": [
        "#display the column info\n",
        "df.columns"
      ],
      "metadata": {
        "colab": {
          "base_uri": "https://localhost:8080/"
        },
        "id": "r4eN3aiRRFbw",
        "outputId": "86a21e78-1615-40c8-f548-99e1725b94b6"
      },
      "execution_count": 41,
      "outputs": [
        {
          "output_type": "execute_result",
          "data": {
            "text/plain": [
              "Index(['Brand Name', 'Price', 'Price_INR', 'Rating', 'Rating Count',\n",
              "       'Review Count', 'Ranking', 'URL'],\n",
              "      dtype='object')"
            ]
          },
          "metadata": {},
          "execution_count": 41
        }
      ]
    },
    {
      "cell_type": "code",
      "source": [
        "#Display all distinct values in the 'Brand Name' column\n",
        "distinct_brands = df['Brand Name'].unique()\n",
        "print(\"Distinct Brand Names:\")\n",
        "for brand in distinct_brands:\n",
        "    print(brand)\n",
        "\n",
        "# Count the number of distinct values\n",
        "count_distinct_brands = df['Brand Name'].nunique()\n",
        "print(f\"\\nTotal number of distinct brands: {count_distinct_brands}\")"
      ],
      "metadata": {
        "colab": {
          "base_uri": "https://localhost:8080/"
        },
        "id": "SF7Jc4sDTqNU",
        "outputId": "4baffbd5-7f1a-40f0-bdbf-7122ff894ef2"
      },
      "execution_count": 42,
      "outputs": [
        {
          "output_type": "stream",
          "name": "stdout",
          "text": [
            "Distinct Brand Names:\n",
            "Not Available\n",
            "eufy\n",
            "TEEHO\n",
            "Yale\n",
            "Wyze\n",
            "August\n",
            "Keyless-Entry\n",
            "Schlage\n",
            "Veise\n",
            "Kwikset\n",
            "Google\n",
            "TMEZON\n",
            "Philips\n",
            "Aqara\n",
            "Smart\n",
            "Keyless\n",
            "Harfo\n",
            "ULTRALOQ\n",
            "SwitchBot\n",
            "Level\n",
            "Fingerprint\n",
            "Wi-Fi\n",
            "SCHLAGE\n",
            "WiFi\n",
            "Keypad\n",
            "ONERVA™\n",
            "Lockly\n",
            "HOSOM\n",
            "Hornbill\n",
            "Sifely\n",
            "TUYA\n",
            "Proscenic\n",
            "Honeywell\n",
            "Amazon\n",
            "Tuya\n",
            "VEVOR\n",
            "GeekTale\n",
            "Geek\n",
            "Commax\n",
            "MiLocks\n",
            "Camera\n",
            "FJM\n",
            "3-in-1\n",
            "KingForce\n",
            "Probrico\n",
            "SMONET\n",
            "MINIA\n",
            "YoLink\n",
            "52HZ\n",
            "Door\n",
            "KNOBWELL\n",
            "Electronic\n",
            "Foxgard\n",
            "Revolo\n",
            "GHome\n",
            "\n",
            "Total number of distinct brands: 55\n"
          ]
        }
      ]
    },
    {
      "cell_type": "code",
      "source": [
        "# Create an SQLite database in memory\n",
        "conn = sqlite3.connect(':memory:')\n",
        "\n",
        "# Load the DataFrame into the SQLite database\n",
        "df.to_sql('smart_locks', conn, index=False, if_exists='replace')\n",
        "\n",
        "# Create a cursor object\n",
        "cursor = conn.cursor()"
      ],
      "metadata": {
        "id": "GfAE9ybURHk8"
      },
      "execution_count": 43,
      "outputs": []
    },
    {
      "cell_type": "markdown",
      "source": [
        "**Query 1: Calculate the Total No. of Distinct Brands**"
      ],
      "metadata": {
        "id": "s4K0kufaRtvS"
      }
    },
    {
      "cell_type": "code",
      "source": [
        "#Display all distinct values in the 'Brand Name' column\n",
        "distinct_brands = df['Brand Name'].unique()\n",
        "print(\"Distinct Brand Names:\")\n",
        "for brand in distinct_brands:\n",
        "    print(brand)\n",
        "\n",
        "# Count the number of distinct values\n",
        "count_distinct_brands = df['Brand Name'].nunique()\n",
        "print(f\"\\nTotal number of distinct brands: {count_distinct_brands}\")"
      ],
      "metadata": {
        "colab": {
          "base_uri": "https://localhost:8080/"
        },
        "id": "mxLNJhVUHZT8",
        "outputId": "fe6e61ca-7580-4ad0-d5ac-867594d13d26"
      },
      "execution_count": 50,
      "outputs": [
        {
          "output_type": "stream",
          "name": "stdout",
          "text": [
            "Distinct Brand Names:\n",
            "Not Available\n",
            "eufy\n",
            "TEEHO\n",
            "Yale\n",
            "Wyze\n",
            "August\n",
            "Keyless-Entry\n",
            "Schlage\n",
            "Veise\n",
            "Kwikset\n",
            "Google\n",
            "TMEZON\n",
            "Philips\n",
            "Aqara\n",
            "Smart\n",
            "Keyless\n",
            "Harfo\n",
            "ULTRALOQ\n",
            "SwitchBot\n",
            "Level\n",
            "Fingerprint\n",
            "Wi-Fi\n",
            "SCHLAGE\n",
            "WiFi\n",
            "Keypad\n",
            "ONERVA™\n",
            "Lockly\n",
            "HOSOM\n",
            "Hornbill\n",
            "Sifely\n",
            "TUYA\n",
            "Proscenic\n",
            "Honeywell\n",
            "Amazon\n",
            "Tuya\n",
            "VEVOR\n",
            "GeekTale\n",
            "Geek\n",
            "Commax\n",
            "MiLocks\n",
            "Camera\n",
            "FJM\n",
            "3-in-1\n",
            "KingForce\n",
            "Probrico\n",
            "SMONET\n",
            "MINIA\n",
            "YoLink\n",
            "52HZ\n",
            "Door\n",
            "KNOBWELL\n",
            "Electronic\n",
            "Foxgard\n",
            "Revolo\n",
            "GHome\n",
            "\n",
            "Total number of distinct brands: 55\n"
          ]
        }
      ]
    },
    {
      "cell_type": "code",
      "source": [
        "#SQL query to fetch distinct brands\n",
        "query_a = \"\"\"SELECT COUNT(DISTINCT [Brand Name]) AS Number_of_Brands FROM smart_locks\n",
        "WHERE [Brand Name] IS NOT NULL AND [Brand Name] !='Not Available';\"\"\"\n",
        "#query execution step\n",
        "cursor.execute(query_a)\n",
        "result_a = cursor.fetchone()\n",
        "#display the result\n",
        "print(f\"Number of Brands: {result_a[0]}\")"
      ],
      "metadata": {
        "colab": {
          "base_uri": "https://localhost:8080/"
        },
        "id": "FeJedXJ2RZrQ",
        "outputId": "075cf33e-cc87-4976-fd79-f2e459037d25"
      },
      "execution_count": 44,
      "outputs": [
        {
          "output_type": "stream",
          "name": "stdout",
          "text": [
            "Number of Brands: 54\n"
          ]
        }
      ]
    },
    {
      "cell_type": "markdown",
      "source": [
        "###### **SQL generates case sensitive results hence, normalising brand names so that unique count is obtained**"
      ],
      "metadata": {
        "id": "U4Zki0LQ_8rM"
      }
    },
    {
      "cell_type": "code",
      "source": [
        "# import sqlite3\n",
        "# conn = sqlite3.connect('smart_locks')\n",
        "# cursor = conn.cursor()\n",
        "\n",
        "#Reopening the database connection\n",
        "conn = sqlite3.connect(':memory:')  # or the specific database file\n",
        "\n",
        "# (Optional) Reload the DataFrame if needed\n",
        "df.to_sql('smart_locks', conn, index=False, if_exists='replace')\n",
        "\n",
        "# Create a cursor object\n",
        "cursor = conn.cursor()\n",
        "\n",
        "# # SQL query to update the brand name\n",
        "# update_query = \"\"\"\n",
        "# UPDATE smart_locks\n",
        "# SET [Brand Name] = LOWER([Brand Name]);\n",
        "# \"\"\"\n",
        "# cursor.execute(update_query)\n",
        "\n",
        "# Verify the unique brand count\n",
        "query = \"\"\"\n",
        "SELECT COUNT(DISTINCT [Brand Name]) AS Number_of_Brands\n",
        "FROM smart_locks\n",
        "WHERE [Brand Name] IS NOT NULL AND [Brand Name]!= 'Not Available';\n",
        "\"\"\"\n",
        "cursor.execute(query)\n",
        "result = cursor.fetchone()\n",
        "print(f\"Number of Brands: {result[0]}\")"
      ],
      "metadata": {
        "colab": {
          "base_uri": "https://localhost:8080/"
        },
        "id": "oFq8PCj5Ah21",
        "outputId": "f7866f48-bbd6-4098-e488-77ecd46de566"
      },
      "execution_count": 74,
      "outputs": [
        {
          "output_type": "stream",
          "name": "stdout",
          "text": [
            "Number of Brands: 53\n"
          ]
        }
      ]
    },
    {
      "cell_type": "markdown",
      "source": [
        "######  **SQL treating Wi-Fi & WiFi as separate Brand Names hence we will standardise the values**"
      ],
      "metadata": {
        "id": "COoPRE64b7Qn"
      }
    },
    {
      "cell_type": "code",
      "source": [
        "# SQL query to update the brand name\n",
        "\n",
        "cursor.execute(\"UPDATE smart_locks SET [Brand Name] = 'Wi-Fi' WHERE [Brand Name] IN ('Wifi', 'Wi-Fi');\")\n",
        "conn.commit()\n",
        "\n",
        "cursor.execute(\"UPDATE smart_locks SET [Brand Name] = 'Tuya' WHERE [Brand Name] = 'TUYA';\")\n",
        "conn.commit()\n",
        "\n",
        "cursor.execute(\"UPDATE smart_locks SET [Brand Name] = 'Schlage' WHERE [Brand Name] = 'SCHLAGE';\")\n",
        "conn.commit()\n",
        "\n",
        "# Update doesn't return rows so just print the execution\n",
        "print(\"Update successful.\")"
      ],
      "metadata": {
        "colab": {
          "base_uri": "https://localhost:8080/"
        },
        "id": "aYzAEDJacPxC",
        "outputId": "ed720900-6f1b-44d3-d0c6-f0b41d7299f6"
      },
      "execution_count": 86,
      "outputs": [
        {
          "output_type": "stream",
          "name": "stdout",
          "text": [
            "Update successful.\n"
          ]
        }
      ]
    },
    {
      "cell_type": "code",
      "source": [
        "#Display all distinct values in the 'Brand Name' column\n",
        "\n",
        "df['Brand Name'] = df['Brand Name'].str.title()\n",
        "\n",
        "df['Brand Name'] = df['Brand Name'].replace('Wifi', 'Wi-Fi')\n",
        "\n",
        "distinct_brands = df['Brand Name'].unique()\n",
        "print(\"Distinct Brand Names:\")\n",
        "for brand in distinct_brands:\n",
        "    print(brand)\n",
        "\n",
        "# Count the number of distinct values\n",
        "count_distinct_brands = df['Brand Name'].nunique()\n",
        "print(f\"\\nTotal number of distinct brands: {count_distinct_brands}\")"
      ],
      "metadata": {
        "colab": {
          "base_uri": "https://localhost:8080/"
        },
        "id": "0_wDRiQ_Hgbo",
        "outputId": "03c588f7-1c41-45f8-f687-731af9b9425d"
      },
      "execution_count": 87,
      "outputs": [
        {
          "output_type": "stream",
          "name": "stdout",
          "text": [
            "Distinct Brand Names:\n",
            "52Hz\n",
            "Amazon\n",
            "Geek\n",
            "Proscenic\n",
            "Knobwell\n",
            "Door\n",
            "Harfo\n",
            "Electronic\n",
            "Teeho\n",
            "Commax\n",
            "Ghome\n",
            "Keyless-Entry\n",
            "Yale\n",
            "Foxgard\n",
            "Wyze\n",
            "Eufy\n",
            "August\n",
            "Schlage\n",
            "Milocks\n",
            "Onerva™\n",
            "Tmezon\n",
            "Vevor\n",
            "Camera\n",
            "Switchbot\n",
            "Honeywell\n",
            "Philips\n",
            "Not Available\n",
            "Keyless\n",
            "Smart\n",
            "Lockly\n",
            "Sifely\n",
            "Keypad\n",
            "Fingerprint\n",
            "Revolo\n",
            "Hosom\n",
            "Kwikset\n",
            "Geektale\n",
            "Aqara\n",
            "Fjm\n",
            "Google\n",
            "Ultraloq\n",
            "3-In-1\n",
            "Veise\n",
            "Wi-Fi\n",
            "Tuya\n",
            "Level\n",
            "Kingforce\n",
            "Hornbill\n",
            "Probrico\n",
            "Smonet\n",
            "Minia\n",
            "Yolink\n",
            "\n",
            "Total number of distinct brands: 52\n"
          ]
        }
      ]
    },
    {
      "cell_type": "markdown",
      "source": [
        "**Query 1: Re-running the query after making the necessary changes in the Brand values**"
      ],
      "metadata": {
        "id": "7wBRQsBCdWe1"
      }
    },
    {
      "cell_type": "code",
      "source": [
        "#SQL query to fetch distinct brands\n",
        "query_a = \"\"\"SELECT COUNT(DISTINCT [Brand Name]) AS Number_of_Brands FROM smart_locks\n",
        "WHERE [Brand Name] IS NOT NULL AND [Brand Name] !='Not Available';\"\"\"\n",
        "#query execution step\n",
        "cursor.execute(query_a)\n",
        "result_a = cursor.fetchone()\n",
        "#display the result\n",
        "print(f\"Number of Brands: {result_a[0]}\")"
      ],
      "metadata": {
        "colab": {
          "base_uri": "https://localhost:8080/"
        },
        "id": "DBnZHs0udTzZ",
        "outputId": "20de1cbc-3298-4066-b491-754ea3357517"
      },
      "execution_count": 88,
      "outputs": [
        {
          "output_type": "stream",
          "name": "stdout",
          "text": [
            "Number of Brands: 53\n"
          ]
        }
      ]
    },
    {
      "cell_type": "markdown",
      "source": [
        "**Query 2: Compute the Count of SKUs per Brand**"
      ],
      "metadata": {
        "id": "bD_FRtzHR2t6"
      }
    },
    {
      "cell_type": "code",
      "source": [
        "#Fetch the Count of SKUs per brand\n",
        "query_b = \"\"\"\n",
        "SELECT [Brand Name], COUNT(*) AS SKU_Count\n",
        "FROM smart_locks\n",
        "GROUP BY [Brand Name]\n",
        "ORDER BY SKU_Count DESC;\n",
        "\"\"\"\n",
        "#query execution step\n",
        "cursor.execute(query_b)\n",
        "result_b = cursor.fetchall()\n",
        "#display the result\n",
        "print(\"Count of SKUs per Brand:\")\n",
        "for row in result_b:\n",
        "    print(row)"
      ],
      "metadata": {
        "colab": {
          "base_uri": "https://localhost:8080/"
        },
        "id": "PyIaLTOuR1ed",
        "outputId": "ca0ea1d9-9df9-4409-9ef7-68aa1f2cf36b"
      },
      "execution_count": 70,
      "outputs": [
        {
          "output_type": "stream",
          "name": "stdout",
          "text": [
            "Count of SKUs per Brand:\n",
            "('not available', 54)\n",
            "('smart', 38)\n",
            "('keyless', 26)\n",
            "('veise', 25)\n",
            "('yale', 15)\n",
            "('kwikset', 14)\n",
            "('fingerprint', 11)\n",
            "('wifi', 9)\n",
            "('ultraloq', 8)\n",
            "('teeho', 7)\n",
            "('keypad', 7)\n",
            "('sifely', 5)\n",
            "('schlage', 5)\n",
            "('lockly', 5)\n",
            "('keyless-entry', 5)\n",
            "('door', 5)\n",
            "('level', 4)\n",
            "('eufy', 4)\n",
            "('google', 3)\n",
            "('geektale', 3)\n",
            "('aqara', 3)\n",
            "('wyze', 2)\n",
            "('tuya', 2)\n",
            "('switchbot', 2)\n",
            "('proscenic', 2)\n",
            "('knobwell', 2)\n",
            "('hornbill', 2)\n",
            "('august', 2)\n",
            "('yolink', 1)\n",
            "('wi-fi', 1)\n",
            "('vevor', 1)\n",
            "('tmezon', 1)\n",
            "('smonet', 1)\n",
            "('revolo', 1)\n",
            "('probrico', 1)\n",
            "('philips', 1)\n",
            "('onerva™', 1)\n",
            "('minia', 1)\n",
            "('milocks', 1)\n",
            "('kingforce', 1)\n",
            "('hosom', 1)\n",
            "('honeywell', 1)\n",
            "('harfo', 1)\n",
            "('ghome', 1)\n",
            "('geek', 1)\n",
            "('foxgard', 1)\n",
            "('fjm', 1)\n",
            "('electronic', 1)\n",
            "('commax', 1)\n",
            "('camera', 1)\n",
            "('amazon', 1)\n",
            "('52hz', 1)\n",
            "('3-in-1', 1)\n"
          ]
        }
      ]
    },
    {
      "cell_type": "markdown",
      "source": [
        "**Query 3: Compute the Relative Ranking of brands wrt the Ranking of their SKUs:**"
      ],
      "metadata": {
        "id": "H_QC3NFOSC2u"
      }
    },
    {
      "cell_type": "code",
      "source": [
        "query_c = \"\"\"\n",
        "SELECT [Brand Name],\n",
        "      ROUND(AVG(Ranking),2) AS Relative_Ranking\n",
        "FROM smart_locks\n",
        "GROUP BY [Brand Name]\n",
        "ORDER BY Relative_Ranking ASC;\n",
        "\"\"\"\n",
        "#query execution step\n",
        "cursor.execute(query_c)\n",
        "result_c = cursor.fetchall()\n",
        "\n",
        "# Convert the result to a DataFrame\n",
        "df = pd.DataFrame(result_c, columns=['Brand Name', 'Relative_Ranking'])\n",
        "\n",
        "# Display only the top 5 brands\n",
        "top_5_brands = df.head(5)\n",
        "print(\"Top 5 Brands with Lowest Relative Ranking:\")\n",
        "print(top_5_brands)\n",
        "#display the overall result\n",
        "print(\"Relative Ranking of Brands:\")\n",
        "for row in result_c:\n",
        "    print(row)"
      ],
      "metadata": {
        "colab": {
          "base_uri": "https://localhost:8080/"
        },
        "id": "_0i7Doz2SOry",
        "outputId": "c900987e-61ec-4cec-b675-f6f3d0c62eb7"
      },
      "execution_count": 71,
      "outputs": [
        {
          "output_type": "stream",
          "name": "stdout",
          "text": [
            "Top 5 Brands with Lowest Relative Ranking:\n",
            "  Brand Name  Relative_Ranking\n",
            "0       52hz               3.0\n",
            "1     amazon               4.0\n",
            "2       geek               5.0\n",
            "3  proscenic               5.0\n",
            "4   knobwell               8.5\n",
            "Relative Ranking of Brands:\n",
            "('52hz', 3.0)\n",
            "('amazon', 4.0)\n",
            "('geek', 5.0)\n",
            "('proscenic', 5.0)\n",
            "('knobwell', 8.5)\n",
            "('door', 9.0)\n",
            "('harfo', 9.0)\n",
            "('electronic', 12.0)\n",
            "('teeho', 12.29)\n",
            "('commax', 13.0)\n",
            "('ghome', 13.0)\n",
            "('keyless-entry', 13.0)\n",
            "('yale', 13.93)\n",
            "('foxgard', 14.0)\n",
            "('wyze', 14.5)\n",
            "('eufy', 15.5)\n",
            "('august', 16.5)\n",
            "('schlage', 17.8)\n",
            "('milocks', 18.0)\n",
            "('onerva™', 18.0)\n",
            "('tmezon', 18.0)\n",
            "('vevor', 18.0)\n",
            "('camera', 19.0)\n",
            "('switchbot', 19.0)\n",
            "('honeywell', 20.0)\n",
            "('philips', 20.0)\n",
            "('not available', 20.56)\n",
            "('keyless', 22.19)\n",
            "('smart', 22.39)\n",
            "('lockly', 23.8)\n",
            "('sifely', 23.8)\n",
            "('keypad', 23.86)\n",
            "('fingerprint', 23.91)\n",
            "('revolo', 24.0)\n",
            "('hosom', 25.0)\n",
            "('kwikset', 25.57)\n",
            "('geektale', 25.67)\n",
            "('aqara', 26.0)\n",
            "('fjm', 26.0)\n",
            "('google', 26.67)\n",
            "('ultraloq', 27.38)\n",
            "('3-in-1', 29.0)\n",
            "('veise', 29.16)\n",
            "('wifi', 29.22)\n",
            "('tuya', 31.5)\n",
            "('level', 32.0)\n",
            "('kingforce', 33.0)\n",
            "('hornbill', 35.5)\n",
            "('probrico', 36.0)\n",
            "('smonet', 38.0)\n",
            "('wi-fi', 40.0)\n",
            "('minia', 42.0)\n",
            "('yolink', 50.0)\n"
          ]
        }
      ]
    },
    {
      "cell_type": "markdown",
      "source": [
        "**Query 4: Compute the Relative Rating of brands wrt the Rating of their SKUs:**"
      ],
      "metadata": {
        "id": "OshUhcKBShb-"
      }
    },
    {
      "cell_type": "code",
      "source": [
        "query_d = \"\"\"\n",
        "SELECT [Brand Name],\n",
        "       ROUND(AVG(Rating),2) AS Relative_Rating\n",
        "FROM smart_locks\n",
        "GROUP BY [Brand Name]\n",
        "ORDER BY Relative_Rating DESC;\n",
        "\"\"\"\n",
        "#query execution step\n",
        "cursor.execute(query_d)\n",
        "result_d = cursor.fetchall()\n",
        "\n",
        "#display the result\n",
        "print(\"Relative Rating of Brands:\")\n",
        "for row in result_d:\n",
        "    print(row)"
      ],
      "metadata": {
        "colab": {
          "base_uri": "https://localhost:8080/"
        },
        "id": "HhLEKRbPSsk8",
        "outputId": "12d89157-16a4-43c7-b4db-c79a3c3471d2"
      },
      "execution_count": 72,
      "outputs": [
        {
          "output_type": "stream",
          "name": "stdout",
          "text": [
            "Relative Rating of Brands:\n",
            "('probrico', 5.0)\n",
            "('knobwell', 5.0)\n",
            "('onerva™', 4.9)\n",
            "('electronic', 4.9)\n",
            "('foxgard', 4.8)\n",
            "('geek', 4.7)\n",
            "('wyze', 4.5)\n",
            "('philips', 4.5)\n",
            "('wifi', 4.46)\n",
            "('sifely', 4.44)\n",
            "('keypad', 4.44)\n",
            "('keyless-entry', 4.44)\n",
            "('veise', 4.38)\n",
            "('teeho', 4.36)\n",
            "('schlage', 4.36)\n",
            "('hornbill', 4.35)\n",
            "('keyless', 4.34)\n",
            "('wi-fi', 4.3)\n",
            "('smonet', 4.3)\n",
            "('harfo', 4.3)\n",
            "('eufy', 4.3)\n",
            "('smart', 4.28)\n",
            "('kwikset', 4.28)\n",
            "('lockly', 4.26)\n",
            "('yolink', 4.2)\n",
            "('tmezon', 4.2)\n",
            "('switchbot', 4.2)\n",
            "('revolo', 4.2)\n",
            "('august', 4.2)\n",
            "('aqara', 4.2)\n",
            "('proscenic', 4.15)\n",
            "('door', 4.12)\n",
            "('vevor', 4.1)\n",
            "('ultraloq', 4.1)\n",
            "('kingforce', 4.1)\n",
            "('honeywell', 4.1)\n",
            "('google', 4.03)\n",
            "('yale', 4.01)\n",
            "('milocks', 3.9)\n",
            "('hosom', 3.9)\n",
            "('52hz', 3.9)\n",
            "('tuya', 3.85)\n",
            "('amazon', 3.7)\n",
            "('level', 3.65)\n",
            "('minia', 3.5)\n",
            "('3-in-1', 3.5)\n",
            "('fingerprint', 3.44)\n",
            "('camera', 3.3)\n",
            "('geektale', 3.03)\n",
            "('fjm', 2.2)\n",
            "('not available', 1.66)\n",
            "('ghome', 0.0)\n",
            "('commax', 0.0)\n"
          ]
        }
      ]
    },
    {
      "cell_type": "markdown",
      "source": [
        "**Query 5: Calculate the distribution of SKUs across different Price Bands:**"
      ],
      "metadata": {
        "id": "ep3mRUvTS1sf"
      }
    },
    {
      "cell_type": "code",
      "source": [
        "#price Band per SKU with Common Table expressions CTEs\n",
        "query_e=\"\"\"WITH PriceBand_CTE AS (\n",
        "    SELECT\n",
        "        CASE\n",
        "            WHEN Price_INR < 4999 THEN '<INR 4999'\n",
        "            WHEN Price_INR BETWEEN 3000 AND 4999 THEN 'INR 3000-4999'\n",
        "            WHEN Price_INR BETWEEN 5000 AND 9999 THEN 'INR 5000-9999'\n",
        "            WHEN Price_INR BETWEEN 10000 AND 14999 THEN 'INR 10000-14999'\n",
        "            WHEN Price_INR BETWEEN 15000 AND 19999 THEN 'INR 15000-19999'\n",
        "            ELSE 'Greater than 20000'\n",
        "        END AS Price_Band\n",
        "    FROM smart_locks\n",
        ")\n",
        "SELECT\n",
        "    Price_Band,\n",
        "    COUNT(*) AS SKU_Count\n",
        "FROM PriceBand_CTE\n",
        "GROUP BY Price_Band\n",
        "ORDER BY\n",
        "    CASE\n",
        "        WHEN Price_Band = '<INR 4999' THEN 1\n",
        "        WHEN Price_Band = 'INR 3000-4999' THEN 2\n",
        "        WHEN Price_Band = 'INR 5000-9999' THEN 3\n",
        "        WHEN Price_Band = 'INR 10000-14999' THEN 4\n",
        "        WHEN Price_Band = 'INR 15000-19999' THEN 5\n",
        "        ELSE 6\n",
        "    END;\n",
        "  \"\"\"\n",
        "#query execution step\n",
        "cursor.execute(query_e)\n",
        "result_e = cursor.fetchall()\n",
        "\n",
        "#display the result\n",
        "print(\"Distribution of SKUs across Price Bands:\")\n",
        "for row in result_e:\n",
        "    print(row)\n"
      ],
      "metadata": {
        "colab": {
          "base_uri": "https://localhost:8080/"
        },
        "id": "NK7M7-r2S9nO",
        "outputId": "9057b6f5-ac1b-4cf5-aaf8-cff1e959a025"
      },
      "execution_count": 27,
      "outputs": [
        {
          "output_type": "stream",
          "name": "stdout",
          "text": [
            "Distribution of SKUs across Price Bands:\n",
            "('<INR 4999', 85)\n",
            "('INR 5000-9999', 82)\n",
            "('INR 10000-14999', 68)\n",
            "('INR 15000-19999', 28)\n",
            "('Greater than 20000', 32)\n"
          ]
        }
      ]
    },
    {
      "cell_type": "markdown",
      "source": [
        "**Visualising the Data**"
      ],
      "metadata": {
        "id": "aFI_B-sxTqWu"
      }
    },
    {
      "cell_type": "markdown",
      "source": [
        "##### 1. Visualise the Top 5 Brands"
      ],
      "metadata": {
        "id": "OaqSCE1iT0Lq"
      }
    },
    {
      "cell_type": "code",
      "source": [
        "import matplotlib.pyplot as plt\n",
        "\n",
        "# Set the figure size (width, height) in inches\n",
        "plt.figure(figsize=(6, 4))\n",
        "\n",
        "# Plotting the data\n",
        "plt.bar(top_5_brands['Brand Name'], top_5_brands['Relative_Ranking'])\n",
        "\n",
        "# Adding labels & Title\n",
        "plt.xlabel('Brand')\n",
        "plt.ylabel('Relative Ranking')\n",
        "plt.title('Top 5 Brands with Lowest Relative Ranking')\n",
        "\n",
        "# Display the plot\n",
        "plt.show()"
      ],
      "metadata": {
        "colab": {
          "base_uri": "https://localhost:8080/",
          "height": 410
        },
        "id": "rwUcc-3QTwEl",
        "outputId": "1cc96afd-3a27-49f7-969a-0630695807b5"
      },
      "execution_count": 28,
      "outputs": [
        {
          "output_type": "display_data",
          "data": {
            "text/plain": [
              "<Figure size 600x400 with 1 Axes>"
            ],
            "image/png": "[encoded data removed]"
          },
          "metadata": {}
        }
      ]
    },
    {
      "cell_type": "markdown",
      "source": [
        "#####2. Visualise the Price Distribution of SKUs"
      ],
      "metadata": {
        "id": "aaEPxaxTUAiv"
      }
    },
    {
      "cell_type": "code",
      "source": [
        "import matplotlib.pyplot as plt\n",
        "\n",
        "#converting the result_e to dataframe to make sure that the graph has been plotted\n",
        "df = pd.DataFrame(result_e, columns=['Price_Band', 'SKU_Count'])\n",
        "\n",
        "# Set the figure size\n",
        "plt.figure(figsize=(8, 5))\n",
        "\n",
        "# Plotting the data\n",
        "plt.plot(df['Price_Band'], df['SKU_Count'])\n",
        "\n",
        "# Adding labels and title\n",
        "plt.xlabel('Price Band')\n",
        "plt.ylabel('SKU Count')\n",
        "plt.title('Price Distribution of SKUs')\n",
        "\n",
        "# Display the plot\n",
        "plt.show()\n"
      ],
      "metadata": {
        "colab": {
          "base_uri": "https://localhost:8080/",
          "height": 487
        },
        "id": "1-GBki-8Ua8g",
        "outputId": "c442a491-d2f9-4de6-f0c8-c3ac02f85907"
      },
      "execution_count": 29,
      "outputs": [
        {
          "output_type": "display_data",
          "data": {
            "text/plain": [
              "<Figure size 800x500 with 1 Axes>"
            ],
            "image/png": "[encoded data removed]"
          },
          "metadata": {}
        }
      ]
    }
  ]
}