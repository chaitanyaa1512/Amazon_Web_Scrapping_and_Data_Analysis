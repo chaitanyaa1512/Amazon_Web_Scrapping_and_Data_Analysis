{
  "nbformat": 4,
  "nbformat_minor": 0,
  "metadata": {
    "colab": {
      "provenance": [],
      "authorship_tag": "ABX9TyPca+rNG1g1eYlAFzJGpd9m",
      "include_colab_link": true
    },
    "kernelspec": {
      "name": "python3",
      "display_name": "Python 3"
    },
    "language_info": {
      "name": "python"
    }
  },
  "cells": [
    {
      "cell_type": "markdown",
      "metadata": {
        "id": "view-in-github",
        "colab_type": "text"
      },
      "source": [
        "<a href=\"https://colab.research.google.com/github/chaitanyaa1512/Amazon_Web_Scrapping_and_Data_Analysis/blob/main/Amazon_Product_Smart_Locks_Analysis.ipynb\" target=\"_parent\"><img src=\"https://colab.research.google.com/assets/colab-badge.svg\" alt=\"Open In Colab\"/></a>"
      ]
    },
    {
      "cell_type": "code",
      "source": [
        "#importing the relevant libraries\n",
        "import requests\n",
        "from bs4 import BeautifulSoup\n",
        "import pandas as pd\n",
        "import numpy as np\n",
        "import time\n",
        "\n",
        "# URL of the Amazon Smart Locks Web Page\n",
        "url_template = \"https://www.amazon.com/s?k=smart+lock&page={page}&crid=2A0VLCNI653XM&sprefix=smart+lock%2Caps%2C2815&ref=nb_sb_ss_ts-doa-p_2_10\"\n",
        "\n",
        "# Setting up the header for initialising the HTTP request\n",
        "headers = {\n",
        "    \"User-Agent\": \"Mozilla/5.0 (Windows NT 10.0; Win64; x64) AppleWebKit/537.36 (KHTML, like Gecko) Chrome/115.0.0.0 Safari/537.36\",\n",
        "    \"Accept-Language\": \"en-US,en;q=0.9\"\n",
        "}\n",
        "\n",
        "# Creating an empty list to store product details\n",
        "products = []\n",
        "\n",
        "#Running a loop for scraping first 20 pages\n",
        "for page in range(1, 21):\n",
        "    url = url_template.format(page=page)\n",
        "\n",
        "    # HTTP request to fetch the content of the Web Page\n",
        "    response = requests.get(url, headers=headers)\n",
        "\n",
        "    # Checking if the request was successful with no Respinse 503 error\n",
        "    if response.status_code == 200:\n",
        "        # Parsing the content with BeautifulSoup\n",
        "        soup = BeautifulSoup(response.content, \"html.parser\")\n",
        "\n",
        "        # Select the product listings\n",
        "        product_selectors = soup.select(\".s-main-slot .s-result-item\")\n",
        "\n",
        "        # Reiterate over the product listings to extract details\n",
        "        for product in product_selectors:\n",
        "            product_details = {}\n",
        "\n",
        "            # Fetch the Brand Name\n",
        "            title_element = product.find(\"span\", class_=\"a-size-base-plus a-color-base a-text-normal\")\n",
        "            if title_element:\n",
        "                title_text = title_element.text.strip()\n",
        "                product_details[\"Brand Name\"] = title_text.split(\" \")[0]  # Take the first word as brand\n",
        "            else:\n",
        "                product_details[\"Brand Name\"] = \"Not Available\"\n",
        "\n",
        "            # Fetch the Product Price\n",
        "            price_whole = product.find(\"span\", class_=\"a-price-whole\")\n",
        "            price_fraction = product.find(\"span\", class_=\"a-price-fraction\")\n",
        "            if price_whole and price_fraction:\n",
        "                product_details[\"Price\"] = f\"${price_whole.text.strip()}{price_fraction.text.strip()}\"\n",
        "            else:\n",
        "                product_details[\"Price\"] = \"Not Available\"\n",
        "\n",
        "            # fetch the Product Rating\n",
        "            rating = product.find(\"span\", class_=\"a-icon-alt\")\n",
        "            if rating:\n",
        "                product_details[\"Rating\"] = rating.text.strip()\n",
        "            else:\n",
        "                product_details[\"Rating\"] = \"Not Available\"\n",
        "\n",
        "            # Fetch the Rating Count(No. of Ratings)\n",
        "            rating_count = product.find(\"span\", class_=\"a-size-base\")\n",
        "            if rating_count:\n",
        "                product_details[\"Rating Count\"] = rating_count.text.strip()\n",
        "            else:\n",
        "                product_details[\"Rating Count\"] = \"Not Available\"\n",
        "            review_count = product.find(\"span\", class_=\"a-size-base\")\n",
        "\n",
        "            # Fetch the Product (Review count--> since there is no class for review count in the HTML page, hence assuming review count to be same as rating count for Amazon)\n",
        "            if review_count:\n",
        "                product_details[\"Review Count\"] = review_count.text.strip()\n",
        "            else:\n",
        "                product_details[\"Review Count\"] = \"Not Available\"\n",
        "\n",
        "            # Fetch the Product's ranking on the page\n",
        "            product_details[\"Ranking\"] = product.get(\"data-index\", \"N/A\")\n",
        "\n",
        "            # Fetch the Product URL\n",
        "            link = product.find(\"a\", class_=\"a-link-normal s-no-outline\")\n",
        "            if link:\n",
        "                product_details[\"URL\"] = \"https://www.amazon.com\" + link.get(\"href\")\n",
        "            else:\n",
        "                product_details[\"URL\"] = \"Not Available\"\n",
        "\n",
        "            # Adding the product details to the list\n",
        "            products.append(product_details)\n",
        "\n",
        "        # Adding a delay of 2 secs to avoid Amazon server traffic frequently\n",
        "        time.sleep(2)\n",
        "\n",
        "    else:\n",
        "        print(f\"Failed to retrieve page {page}: Status code {response.status_code}\")\n",
        "\n",
        "# Converting the list of dictionaries to a DataFrame\n",
        "df = pd.DataFrame(products)\n",
        "\n",
        "# Cleaning the data by replacing blanks/missing values/NaN with Not Available\n",
        "df['Brand Name'] = df['Brand Name'].replace({\"\": \"Not Available\", np.nan: \"Not Available\"})\n",
        "\n",
        "# Cleaning the price values & rounding float values to int\n",
        "df['Price'] = df['Price'].str.replace('$', '').str.replace(',', '').replace('Not Available', '0').replace('', '0')\n",
        "df['Price'] = df['Price'].astype(float).round().astype(int)\n",
        "\n",
        "# Function to clean and convert the Rating column to float\n",
        "def convert_rating(rating):\n",
        "    try:\n",
        "        return float(rating.split()[0])  # Extract numeric part from the rating string\n",
        "    except (ValueError, AttributeError):\n",
        "        return 0.0  # Return 0.0 for non-numeric or missing values\n",
        "\n",
        "# Conversion to the Rating column\n",
        "df['Rating'] = df['Rating'].apply(convert_rating)\n",
        "\n",
        "# Clean and convert Ranking and Rating Count columns to integers\n",
        "def clean_numeric(value):\n",
        "    try:\n",
        "        return int(value.replace(',', '').strip())\n",
        "    except (ValueError, TypeError):\n",
        "        return 0  # Return 0 for non-numeric or missing values\n",
        "\n",
        "df['Ranking'] = df['Ranking'].apply(clean_numeric)\n",
        "df['Rating Count'] = df['Rating Count'].apply(clean_numeric)\n",
        "\n",
        "# Clean and convert Review Count column to integers\n",
        "df['Review Count'] = df['Review Count'].apply(clean_numeric)\n",
        "\n",
        "# Clean URL: replace missing/blank values with \"Not Available\"\n",
        "df['URL'] = df['URL'].replace({\"\": \"Not Available\", np.nan: \"Not Available\"})\n",
        "\n",
        "# Remove duplicates\n",
        "df = df.drop_duplicates()\n",
        "\n",
        "# Save the cleaned DataFrame to a CSV file\n",
        "cleaned_filename = \"cleaned_smart_lock_data.csv\"\n",
        "df.to_csv(cleaned_filename, index=False, encoding='utf-8')\n",
        "\n",
        "print(f\"Cleaned data saved to {cleaned_filename}\")\n"
      ],
      "metadata": {
        "colab": {
          "base_uri": "https://localhost:8080/"
        },
        "id": "TPNPJRKC2RoJ",
        "outputId": "5d4642f6-f046-4141-dd37-d8c5fa0be8db"
      },
      "execution_count": null,
      "outputs": [
        {
          "output_type": "stream",
          "name": "stdout",
          "text": [
            "Failed to retrieve page 1: Status code 503\n",
            "Failed to retrieve page 2: Status code 503\n",
            "Failed to retrieve page 3: Status code 503\n",
            "Failed to retrieve page 4: Status code 503\n",
            "Failed to retrieve page 5: Status code 503\n",
            "Failed to retrieve page 6: Status code 503\n",
            "Failed to retrieve page 7: Status code 503\n",
            "Failed to retrieve page 8: Status code 503\n",
            "Failed to retrieve page 9: Status code 503\n",
            "Failed to retrieve page 11: Status code 503\n",
            "Failed to retrieve page 12: Status code 503\n",
            "Failed to retrieve page 13: Status code 503\n",
            "Failed to retrieve page 14: Status code 503\n",
            "Failed to retrieve page 15: Status code 503\n",
            "Failed to retrieve page 16: Status code 503\n",
            "Failed to retrieve page 17: Status code 503\n",
            "Failed to retrieve page 18: Status code 503\n",
            "Failed to retrieve page 19: Status code 503\n",
            "Failed to retrieve page 20: Status code 503\n",
            "Cleaned data saved to cleaned_smart_lock_data.csv\n"
          ]
        }
      ]
    },
    {
      "cell_type": "code",
      "source": [
        "#display the data dimensions\n",
        "df.shape"
      ],
      "metadata": {
        "id": "M7Q79Apo326t",
        "colab": {
          "base_uri": "https://localhost:8080/"
        },
        "outputId": "cf20477f-4cd2-4180-8116-fee4f708e706"
      },
      "execution_count": null,
      "outputs": [
        {
          "output_type": "execute_result",
          "data": {
            "text/plain": [
              "(7, 7)"
            ]
          },
          "metadata": {},
          "execution_count": 20
        }
      ]
    },
    {
      "cell_type": "code",
      "source": [
        "#load the dataset\n",
        "df=pd.read_csv('/content/cleaned_smart_lock_data_updated.csv')"
      ],
      "metadata": {
        "id": "FiA1Ib8yNurN"
      },
      "execution_count": null,
      "outputs": []
    },
    {
      "cell_type": "code",
      "source": [
        "#display the first few rows of the data\n",
        "df.head()"
      ],
      "metadata": {
        "colab": {
          "base_uri": "https://localhost:8080/",
          "height": 275
        },
        "id": "nQFRJndMOsMu",
        "outputId": "8b81c7ed-e553-4c1f-9617-72cf484d3336"
      },
      "execution_count": null,
      "outputs": [
        {
          "output_type": "execute_result",
          "data": {
            "text/plain": [
              "      Brand Name  Price  Price_INR  Rating  Rating Count  Review Count  \\\n",
              "0  Not Available      0          0     4.0             0             0   \n",
              "1  Not Available      0          0     0.0             0             0   \n",
              "2           eufy    150      12600     4.3             0             0   \n",
              "3           eufy     80       6720     4.3          2641          2641   \n",
              "4          TEEHO     33       2772     4.5         14992         14992   \n",
              "\n",
              "   Ranking                                                URL  \n",
              "0        0                                      Not Available  \n",
              "1        1                                      Not Available  \n",
              "2        3  https://www.amazon.com/eufy-Security-Fingerpri...  \n",
              "3        4  https://www.amazon.com/eufy-Security-Deadbolt-...  \n",
              "4        5  https://www.amazon.com/Keyless-Entry-Door-Lock...  "
            ],
            "text/html": [
              "\n",
              "  <div id=\"df-c6f40be3-d77a-4c1a-b9d1-1292fcc158e1\" class=\"colab-df-container\">\n",
              "    <div>\n",
              "<style scoped>\n",
              "    .dataframe tbody tr th:only-of-type {\n",
              "        vertical-align: middle;\n",
              "    }\n",
              "\n",
              "    .dataframe tbody tr th {\n",
              "        vertical-align: top;\n",
              "    }\n",
              "\n",
              "    .dataframe thead th {\n",
              "        text-align: right;\n",
              "    }\n",
              "</style>\n",
              "<table border=\"1\" class=\"dataframe\">\n",
              "  <thead>\n",
              "    <tr style=\"text-align: right;\">\n",
              "      <th></th>\n",
              "      <th>Brand Name</th>\n",
              "      <th>Price</th>\n",
              "      <th>Price_INR</th>\n",
              "      <th>Rating</th>\n",
              "      <th>Rating Count</th>\n",
              "      <th>Review Count</th>\n",
              "      <th>Ranking</th>\n",
              "      <th>URL</th>\n",
              "    </tr>\n",
              "  </thead>\n",
              "  <tbody>\n",
              "    <tr>\n",
              "      <th>0</th>\n",
              "      <td>Not Available</td>\n",
              "      <td>0</td>\n",
              "      <td>0</td>\n",
              "      <td>4.0</td>\n",
              "      <td>0</td>\n",
              "      <td>0</td>\n",
              "      <td>0</td>\n",
              "      <td>Not Available</td>\n",
              "    </tr>\n",
              "    <tr>\n",
              "      <th>1</th>\n",
              "      <td>Not Available</td>\n",
              "      <td>0</td>\n",
              "      <td>0</td>\n",
              "      <td>0.0</td>\n",
              "      <td>0</td>\n",
              "      <td>0</td>\n",
              "      <td>1</td>\n",
              "      <td>Not Available</td>\n",
              "    </tr>\n",
              "    <tr>\n",
              "      <th>2</th>\n",
              "      <td>eufy</td>\n",
              "      <td>150</td>\n",
              "      <td>12600</td>\n",
              "      <td>4.3</td>\n",
              "      <td>0</td>\n",
              "      <td>0</td>\n",
              "      <td>3</td>\n",
              "      <td>https://www.amazon.com/eufy-Security-Fingerpri...</td>\n",
              "    </tr>\n",
              "    <tr>\n",
              "      <th>3</th>\n",
              "      <td>eufy</td>\n",
              "      <td>80</td>\n",
              "      <td>6720</td>\n",
              "      <td>4.3</td>\n",
              "      <td>2641</td>\n",
              "      <td>2641</td>\n",
              "      <td>4</td>\n",
              "      <td>https://www.amazon.com/eufy-Security-Deadbolt-...</td>\n",
              "    </tr>\n",
              "    <tr>\n",
              "      <th>4</th>\n",
              "      <td>TEEHO</td>\n",
              "      <td>33</td>\n",
              "      <td>2772</td>\n",
              "      <td>4.5</td>\n",
              "      <td>14992</td>\n",
              "      <td>14992</td>\n",
              "      <td>5</td>\n",
              "      <td>https://www.amazon.com/Keyless-Entry-Door-Lock...</td>\n",
              "    </tr>\n",
              "  </tbody>\n",
              "</table>\n",
              "</div>\n",
              "    <div class=\"colab-df-buttons\">\n",
              "\n",
              "  <div class=\"colab-df-container\">\n",
              "    <button class=\"colab-df-convert\" onclick=\"convertToInteractive('df-c6f40be3-d77a-4c1a-b9d1-1292fcc158e1')\"\n",
              "            title=\"Convert this dataframe to an interactive table.\"\n",
              "            style=\"display:none;\">\n",
              "\n",
              "  <svg xmlns=\"http://www.w3.org/2000/svg\" height=\"24px\" viewBox=\"0 -960 960 960\">\n",
              "    <path d=\"M120-120v-720h720v720H120Zm60-500h600v-160H180v160Zm220 220h160v-160H400v160Zm0 220h160v-160H400v160ZM180-400h160v-160H180v160Zm440 0h160v-160H620v160ZM180-180h160v-160H180v160Zm440 0h160v-160H620v160Z\"/>\n",
              "  </svg>\n",
              "    </button>\n",
              "\n",
              "  <style>\n",
              "    .colab-df-container {\n",
              "      display:flex;\n",
              "      gap: 12px;\n",
              "    }\n",
              "\n",
              "    .colab-df-convert {\n",
              "      background-color: #E8F0FE;\n",
              "      border: none;\n",
              "      border-radius: 50%;\n",
              "      cursor: pointer;\n",
              "      display: none;\n",
              "      fill: #1967D2;\n",
              "      height: 32px;\n",
              "      padding: 0 0 0 0;\n",
              "      width: 32px;\n",
              "    }\n",
              "\n",
              "    .colab-df-convert:hover {\n",
              "      background-color: #E2EBFA;\n",
              "      box-shadow: 0px 1px 2px rgba(60, 64, 67, 0.3), 0px 1px 3px 1px rgba(60, 64, 67, 0.15);\n",
              "      fill: #174EA6;\n",
              "    }\n",
              "\n",
              "    .colab-df-buttons div {\n",
              "      margin-bottom: 4px;\n",
              "    }\n",
              "\n",
              "    [theme=dark] .colab-df-convert {\n",
              "      background-color: #3B4455;\n",
              "      fill: #D2E3FC;\n",
              "    }\n",
              "\n",
              "    [theme=dark] .colab-df-convert:hover {\n",
              "      background-color: #434B5C;\n",
              "      box-shadow: 0px 1px 3px 1px rgba(0, 0, 0, 0.15);\n",
              "      filter: drop-shadow(0px 1px 2px rgba(0, 0, 0, 0.3));\n",
              "      fill: #FFFFFF;\n",
              "    }\n",
              "  </style>\n",
              "\n",
              "    <script>\n",
              "      const buttonEl =\n",
              "        document.querySelector('#df-c6f40be3-d77a-4c1a-b9d1-1292fcc158e1 button.colab-df-convert');\n",
              "      buttonEl.style.display =\n",
              "        google.colab.kernel.accessAllowed ? 'block' : 'none';\n",
              "\n",
              "      async function convertToInteractive(key) {\n",
              "        const element = document.querySelector('#df-c6f40be3-d77a-4c1a-b9d1-1292fcc158e1');\n",
              "        const dataTable =\n",
              "          await google.colab.kernel.invokeFunction('convertToInteractive',\n",
              "                                                    [key], {});\n",
              "        if (!dataTable) return;\n",
              "\n",
              "        const docLinkHtml = 'Like what you see? Visit the ' +\n",
              "          '<a target=\"_blank\" href=https://colab.research.google.com/notebooks/data_table.ipynb>data table notebook</a>'\n",
              "          + ' to learn more about interactive tables.';\n",
              "        element.innerHTML = '';\n",
              "        dataTable['output_type'] = 'display_data';\n",
              "        await google.colab.output.renderOutput(dataTable, element);\n",
              "        const docLink = document.createElement('div');\n",
              "        docLink.innerHTML = docLinkHtml;\n",
              "        element.appendChild(docLink);\n",
              "      }\n",
              "    </script>\n",
              "  </div>\n",
              "\n",
              "\n",
              "<div id=\"df-f45ddcae-0531-41c7-9f5b-ebfa83f4a931\">\n",
              "  <button class=\"colab-df-quickchart\" onclick=\"quickchart('df-f45ddcae-0531-41c7-9f5b-ebfa83f4a931')\"\n",
              "            title=\"Suggest charts\"\n",
              "            style=\"display:none;\">\n",
              "\n",
              "<svg xmlns=\"http://www.w3.org/2000/svg\" height=\"24px\"viewBox=\"0 0 24 24\"\n",
              "     width=\"24px\">\n",
              "    <g>\n",
              "        <path d=\"M19 3H5c-1.1 0-2 .9-2 2v14c0 1.1.9 2 2 2h14c1.1 0 2-.9 2-2V5c0-1.1-.9-2-2-2zM9 17H7v-7h2v7zm4 0h-2V7h2v10zm4 0h-2v-4h2v4z\"/>\n",
              "    </g>\n",
              "</svg>\n",
              "  </button>\n",
              "\n",
              "<style>\n",
              "  .colab-df-quickchart {\n",
              "      --bg-color: #E8F0FE;\n",
              "      --fill-color: #1967D2;\n",
              "      --hover-bg-color: #E2EBFA;\n",
              "      --hover-fill-color: #174EA6;\n",
              "      --disabled-fill-color: #AAA;\n",
              "      --disabled-bg-color: #DDD;\n",
              "  }\n",
              "\n",
              "  [theme=dark] .colab-df-quickchart {\n",
              "      --bg-color: #3B4455;\n",
              "      --fill-color: #D2E3FC;\n",
              "      --hover-bg-color: #434B5C;\n",
              "      --hover-fill-color: #FFFFFF;\n",
              "      --disabled-bg-color: #3B4455;\n",
              "      --disabled-fill-color: #666;\n",
              "  }\n",
              "\n",
              "  .colab-df-quickchart {\n",
              "    background-color: var(--bg-color);\n",
              "    border: none;\n",
              "    border-radius: 50%;\n",
              "    cursor: pointer;\n",
              "    display: none;\n",
              "    fill: var(--fill-color);\n",
              "    height: 32px;\n",
              "    padding: 0;\n",
              "    width: 32px;\n",
              "  }\n",
              "\n",
              "  .colab-df-quickchart:hover {\n",
              "    background-color: var(--hover-bg-color);\n",
              "    box-shadow: 0 1px 2px rgba(60, 64, 67, 0.3), 0 1px 3px 1px rgba(60, 64, 67, 0.15);\n",
              "    fill: var(--button-hover-fill-color);\n",
              "  }\n",
              "\n",
              "  .colab-df-quickchart-complete:disabled,\n",
              "  .colab-df-quickchart-complete:disabled:hover {\n",
              "    background-color: var(--disabled-bg-color);\n",
              "    fill: var(--disabled-fill-color);\n",
              "    box-shadow: none;\n",
              "  }\n",
              "\n",
              "  .colab-df-spinner {\n",
              "    border: 2px solid var(--fill-color);\n",
              "    border-color: transparent;\n",
              "    border-bottom-color: var(--fill-color);\n",
              "    animation:\n",
              "      spin 1s steps(1) infinite;\n",
              "  }\n",
              "\n",
              "  @keyframes spin {\n",
              "    0% {\n",
              "      border-color: transparent;\n",
              "      border-bottom-color: var(--fill-color);\n",
              "      border-left-color: var(--fill-color);\n",
              "    }\n",
              "    20% {\n",
              "      border-color: transparent;\n",
              "      border-left-color: var(--fill-color);\n",
              "      border-top-color: var(--fill-color);\n",
              "    }\n",
              "    30% {\n",
              "      border-color: transparent;\n",
              "      border-left-color: var(--fill-color);\n",
              "      border-top-color: var(--fill-color);\n",
              "      border-right-color: var(--fill-color);\n",
              "    }\n",
              "    40% {\n",
              "      border-color: transparent;\n",
              "      border-right-color: var(--fill-color);\n",
              "      border-top-color: var(--fill-color);\n",
              "    }\n",
              "    60% {\n",
              "      border-color: transparent;\n",
              "      border-right-color: var(--fill-color);\n",
              "    }\n",
              "    80% {\n",
              "      border-color: transparent;\n",
              "      border-right-color: var(--fill-color);\n",
              "      border-bottom-color: var(--fill-color);\n",
              "    }\n",
              "    90% {\n",
              "      border-color: transparent;\n",
              "      border-bottom-color: var(--fill-color);\n",
              "    }\n",
              "  }\n",
              "</style>\n",
              "\n",
              "  <script>\n",
              "    async function quickchart(key) {\n",
              "      const quickchartButtonEl =\n",
              "        document.querySelector('#' + key + ' button');\n",
              "      quickchartButtonEl.disabled = true;  // To prevent multiple clicks.\n",
              "      quickchartButtonEl.classList.add('colab-df-spinner');\n",
              "      try {\n",
              "        const charts = await google.colab.kernel.invokeFunction(\n",
              "            'suggestCharts', [key], {});\n",
              "      } catch (error) {\n",
              "        console.error('Error during call to suggestCharts:', error);\n",
              "      }\n",
              "      quickchartButtonEl.classList.remove('colab-df-spinner');\n",
              "      quickchartButtonEl.classList.add('colab-df-quickchart-complete');\n",
              "    }\n",
              "    (() => {\n",
              "      let quickchartButtonEl =\n",
              "        document.querySelector('#df-f45ddcae-0531-41c7-9f5b-ebfa83f4a931 button');\n",
              "      quickchartButtonEl.style.display =\n",
              "        google.colab.kernel.accessAllowed ? 'block' : 'none';\n",
              "    })();\n",
              "  </script>\n",
              "</div>\n",
              "\n",
              "    </div>\n",
              "  </div>\n"
            ],
            "application/vnd.google.colaboratory.intrinsic+json": {
              "type": "dataframe",
              "variable_name": "df",
              "summary": "{\n  \"name\": \"df\",\n  \"rows\": 295,\n  \"fields\": [\n    {\n      \"column\": \"Brand Name\",\n      \"properties\": {\n        \"dtype\": \"category\",\n        \"num_unique_values\": 55,\n        \"samples\": [\n          \"Proscenic\",\n          \"August\",\n          \"Honeywell\"\n        ],\n        \"semantic_type\": \"\",\n        \"description\": \"\"\n      }\n    },\n    {\n      \"column\": \"Price\",\n      \"properties\": {\n        \"dtype\": \"number\",\n        \"std\": 91,\n        \"min\": 0,\n        \"max\": 410,\n        \"num_unique_values\": 83,\n        \"samples\": [\n          99,\n          0,\n          138\n        ],\n        \"semantic_type\": \"\",\n        \"description\": \"\"\n      }\n    },\n    {\n      \"column\": \"Price_INR\",\n      \"properties\": {\n        \"dtype\": \"number\",\n        \"std\": 7676,\n        \"min\": 0,\n        \"max\": 34440,\n        \"num_unique_values\": 83,\n        \"samples\": [\n          8316,\n          0,\n          11592\n        ],\n        \"semantic_type\": \"\",\n        \"description\": \"\"\n      }\n    },\n    {\n      \"column\": \"Rating\",\n      \"properties\": {\n        \"dtype\": \"number\",\n        \"std\": 1.4724306828375857,\n        \"min\": 0.0,\n        \"max\": 5.0,\n        \"num_unique_values\": 22,\n        \"samples\": [\n          4.0,\n          3.9,\n          4.6\n        ],\n        \"semantic_type\": \"\",\n        \"description\": \"\"\n      }\n    },\n    {\n      \"column\": \"Rating Count\",\n      \"properties\": {\n        \"dtype\": \"number\",\n        \"std\": 2795,\n        \"min\": 0,\n        \"max\": 17929,\n        \"num_unique_values\": 168,\n        \"samples\": [\n          70,\n          93,\n          30\n        ],\n        \"semantic_type\": \"\",\n        \"description\": \"\"\n      }\n    },\n    {\n      \"column\": \"Review Count\",\n      \"properties\": {\n        \"dtype\": \"number\",\n        \"std\": 2795,\n        \"min\": 0,\n        \"max\": 17929,\n        \"num_unique_values\": 168,\n        \"samples\": [\n          70,\n          93,\n          30\n        ],\n        \"semantic_type\": \"\",\n        \"description\": \"\"\n      }\n    },\n    {\n      \"column\": \"Ranking\",\n      \"properties\": {\n        \"dtype\": \"number\",\n        \"std\": 14,\n        \"min\": 0,\n        \"max\": 58,\n        \"num_unique_values\": 59,\n        \"samples\": [\n          0,\n          7,\n          35\n        ],\n        \"semantic_type\": \"\",\n        \"description\": \"\"\n      }\n    },\n    {\n      \"column\": \"URL\",\n      \"properties\": {\n        \"dtype\": \"string\",\n        \"num_unique_values\": 261,\n        \"samples\": [\n          \"https://www.amazon.com/Kwikset-Single-Cylinder-Deadbolt-SmartKey/dp/B003APS8GK/ref=sr_1_59?crid=2A0VLCNI653XM&dib=eyJ2IjoiMSJ9.1cS6p9lRNT6emmJLf_qKZyJnXRjlnTKRKA28eL7wqI6vpND1bcbQbYS2BZLAgwaLrQq7ylOBpsvXyXocU7voG-mk0tMLpnIbVZ9KRMicEnJwtvB8rh7YbE5MMv7jPjwQi-8UmN_-QxNJARAJ3-HYDhPm9012qGtZak7Wx9DeLbYlHqV4esW4CVkSZScPc0mw8pgHtOvxlYQyqLR8ZA1NdLr1HNhoAiOknAa_dofr4uugwJ_xboPatWlGmok4hC4CqPu9aTFNSmmmKiBTwFqejmKarbp2vwmzysqrW6Q8UuE.QIoV7KNfM1M9bLDCRoCtkNzK4etNJlIyqk-sA9VuOjg&dib_tag=se&keywords=smart+lock&qid=1725439417&sprefix=smart+lock%2Caps%2C2815&sr=8-59\",\n          \"https://www.amazon.com/WiseGear-Keyless-Deadbolt-Fingerprint-Electronic/dp/B0D148W6RN/ref=sr_1_202?crid=2A0VLCNI653XM&dib=eyJ2IjoiMSJ9.P-0h_iTZZqfn3kmwrvD7YLnvS356vQrWW1NHX5B-0Ru4xak3fYMWB4ZgEXUUiTYbOZlm8iDEQfyjiOSQbp6lWuhUfh46VkdJ1zWvEZF-OLoRVYI7JyOfzwi2Rgf4cWbWf0TKxF5IfdCyqp3AkrIDHTAkjjswBi9NdwbUiHwx_7hfQgaByVYPrtZ_0833FHa7tCIYYRdQjg9cwlBlLK4IGXDYRXjiMk6AGHZDPeYHLUs.Au5nS-n3kzGSMgow9N8zcjR6vcdbjZT_WEuoSJ4BW0U&dib_tag=se&keywords=smart+lock&qid=1725439428&sprefix=smart+lock%2Caps%2C2815&sr=8-202\",\n          \"https://www.amazon.com/Keypad-Door-Lock-Handlesets-Hornbill/dp/B0CJC447SJ/ref=sr_1_260?crid=2A0VLCNI653XM&dib=eyJ2IjoiMSJ9.iHPO20jbowHA9TImGoyFzNgCINq0RWxEJWApZUBOGYM3wrmhndhxhi8YFQK3CVSvwU5B_30GjXHCbFcwMsKqnDgc2yOfF-z9Dm267hgOCyQLasTKsx23Lf0SHD6Ia8coV_SSBebq0zcXXduiHHFLqQKyG8G3Mos7-w_y9ooE9OqpfINWtqsTpavaavrit_nSbNLAGx7E92nrpEAHc5fE1ud9OWD5k7cuvRWXdY0QyhW3h1F_xfInaYFGvTY0Ky-8TgyvDVApG5Dvgrq5-3yAn3n3OcY6m96neTEzPJa8rRQ.JvyPs5urEjlMCW8rf_1YC1F5HtUnCO1JNKCmqwrp3dY&dib_tag=se&keywords=smart+lock&qid=1725439431&sprefix=smart+lock%2Caps%2C2815&sr=8-260\"\n        ],\n        \"semantic_type\": \"\",\n        \"description\": \"\"\n      }\n    }\n  ]\n}"
            }
          },
          "metadata": {},
          "execution_count": 34
        }
      ]
    },
    {
      "cell_type": "code",
      "source": [
        "#display the data dimesions\n",
        "df.shape"
      ],
      "metadata": {
        "colab": {
          "base_uri": "https://localhost:8080/"
        },
        "id": "aGHMYLWuOugY",
        "outputId": "8cf65dbe-3b38-4eba-e8ac-6c4ad2b55411"
      },
      "execution_count": null,
      "outputs": [
        {
          "output_type": "execute_result",
          "data": {
            "text/plain": [
              "(295, 8)"
            ]
          },
          "metadata": {},
          "execution_count": 35
        }
      ]
    },
    {
      "cell_type": "code",
      "source": [
        "#display the dataframe info\n",
        "df.info()"
      ],
      "metadata": {
        "colab": {
          "base_uri": "https://localhost:8080/"
        },
        "id": "fk4IBo7tOyHW",
        "outputId": "42d6ed21-9fe8-424d-eab8-b82f5fd4b8b8"
      },
      "execution_count": null,
      "outputs": [
        {
          "output_type": "stream",
          "name": "stdout",
          "text": [
            "<class 'pandas.core.frame.DataFrame'>\n",
            "RangeIndex: 295 entries, 0 to 294\n",
            "Data columns (total 8 columns):\n",
            " #   Column        Non-Null Count  Dtype  \n",
            "---  ------        --------------  -----  \n",
            " 0   Brand Name    295 non-null    object \n",
            " 1   Price         295 non-null    int64  \n",
            " 2   Price_INR     295 non-null    int64  \n",
            " 3   Rating        295 non-null    float64\n",
            " 4   Rating Count  295 non-null    int64  \n",
            " 5   Review Count  295 non-null    int64  \n",
            " 6   Ranking       295 non-null    int64  \n",
            " 7   URL           295 non-null    object \n",
            "dtypes: float64(1), int64(5), object(2)\n",
            "memory usage: 18.6+ KB\n"
          ]
        }
      ]
    },
    {
      "cell_type": "code",
      "source": [
        "import sqlite3\n",
        "import pandas as pd\n",
        "\n",
        "# Load the dataset\n",
        "df = pd.read_csv(\"/content/cleaned_smart_lock_data_updated.csv\")\n",
        "\n",
        "# Display the first few rows of the dataset\n",
        "df.head()"
      ],
      "metadata": {
        "colab": {
          "base_uri": "https://localhost:8080/",
          "height": 206
        },
        "id": "coFrlt4KO0LL",
        "outputId": "e510bc85-577d-42ff-ec51-c97217848a8e"
      },
      "execution_count": 2,
      "outputs": [
        {
          "output_type": "execute_result",
          "data": {
            "text/plain": [
              "      Brand Name  Price  Price_INR  Rating  Rating Count  Review Count  \\\n",
              "0  Not Available      0          0     4.0             0             0   \n",
              "1  Not Available      0          0     0.0             0             0   \n",
              "2           eufy    150      12600     4.3             0             0   \n",
              "3           eufy     80       6720     4.3          2641          2641   \n",
              "4          TEEHO     33       2772     4.5         14992         14992   \n",
              "\n",
              "   Ranking                                                URL  \n",
              "0        0                                      Not Available  \n",
              "1        1                                      Not Available  \n",
              "2        3  https://www.amazon.com/eufy-Security-Fingerpri...  \n",
              "3        4  https://www.amazon.com/eufy-Security-Deadbolt-...  \n",
              "4        5  https://www.amazon.com/Keyless-Entry-Door-Lock...  "
            ],
            "text/html": [
              "\n",
              "  <div id=\"df-b211d0c7-5320-420a-aee2-cf5b2233e1a0\" class=\"colab-df-container\">\n",
              "    <div>\n",
              "<style scoped>\n",
              "    .dataframe tbody tr th:only-of-type {\n",
              "        vertical-align: middle;\n",
              "    }\n",
              "\n",
              "    .dataframe tbody tr th {\n",
              "        vertical-align: top;\n",
              "    }\n",
              "\n",
              "    .dataframe thead th {\n",
              "        text-align: right;\n",
              "    }\n",
              "</style>\n",
              "<table border=\"1\" class=\"dataframe\">\n",
              "  <thead>\n",
              "    <tr style=\"text-align: right;\">\n",
              "      <th></th>\n",
              "      <th>Brand Name</th>\n",
              "      <th>Price</th>\n",
              "      <th>Price_INR</th>\n",
              "      <th>Rating</th>\n",
              "      <th>Rating Count</th>\n",
              "      <th>Review Count</th>\n",
              "      <th>Ranking</th>\n",
              "      <th>URL</th>\n",
              "    </tr>\n",
              "  </thead>\n",
              "  <tbody>\n",
              "    <tr>\n",
              "      <th>0</th>\n",
              "      <td>Not Available</td>\n",
              "      <td>0</td>\n",
              "      <td>0</td>\n",
              "      <td>4.0</td>\n",
              "      <td>0</td>\n",
              "      <td>0</td>\n",
              "      <td>0</td>\n",
              "      <td>Not Available</td>\n",
              "    </tr>\n",
              "    <tr>\n",
              "      <th>1</th>\n",
              "      <td>Not Available</td>\n",
              "      <td>0</td>\n",
              "      <td>0</td>\n",
              "      <td>0.0</td>\n",
              "      <td>0</td>\n",
              "      <td>0</td>\n",
              "      <td>1</td>\n",
              "      <td>Not Available</td>\n",
              "    </tr>\n",
              "    <tr>\n",
              "      <th>2</th>\n",
              "      <td>eufy</td>\n",
              "      <td>150</td>\n",
              "      <td>12600</td>\n",
              "      <td>4.3</td>\n",
              "      <td>0</td>\n",
              "      <td>0</td>\n",
              "      <td>3</td>\n",
              "      <td>https://www.amazon.com/eufy-Security-Fingerpri...</td>\n",
              "    </tr>\n",
              "    <tr>\n",
              "      <th>3</th>\n",
              "      <td>eufy</td>\n",
              "      <td>80</td>\n",
              "      <td>6720</td>\n",
              "      <td>4.3</td>\n",
              "      <td>2641</td>\n",
              "      <td>2641</td>\n",
              "      <td>4</td>\n",
              "      <td>https://www.amazon.com/eufy-Security-Deadbolt-...</td>\n",
              "    </tr>\n",
              "    <tr>\n",
              "      <th>4</th>\n",
              "      <td>TEEHO</td>\n",
              "      <td>33</td>\n",
              "      <td>2772</td>\n",
              "      <td>4.5</td>\n",
              "      <td>14992</td>\n",
              "      <td>14992</td>\n",
              "      <td>5</td>\n",
              "      <td>https://www.amazon.com/Keyless-Entry-Door-Lock...</td>\n",
              "    </tr>\n",
              "  </tbody>\n",
              "</table>\n",
              "</div>\n",
              "    <div class=\"colab-df-buttons\">\n",
              "\n",
              "  <div class=\"colab-df-container\">\n",
              "    <button class=\"colab-df-convert\" onclick=\"convertToInteractive('df-b211d0c7-5320-420a-aee2-cf5b2233e1a0')\"\n",
              "            title=\"Convert this dataframe to an interactive table.\"\n",
              "            style=\"display:none;\">\n",
              "\n",
              "  <svg xmlns=\"http://www.w3.org/2000/svg\" height=\"24px\" viewBox=\"0 -960 960 960\">\n",
              "    <path d=\"M120-120v-720h720v720H120Zm60-500h600v-160H180v160Zm220 220h160v-160H400v160Zm0 220h160v-160H400v160ZM180-400h160v-160H180v160Zm440 0h160v-160H620v160ZM180-180h160v-160H180v160Zm440 0h160v-160H620v160Z\"/>\n",
              "  </svg>\n",
              "    </button>\n",
              "\n",
              "  <style>\n",
              "    .colab-df-container {\n",
              "      display:flex;\n",
              "      gap: 12px;\n",
              "    }\n",
              "\n",
              "    .colab-df-convert {\n",
              "      background-color: #E8F0FE;\n",
              "      border: none;\n",
              "      border-radius: 50%;\n",
              "      cursor: pointer;\n",
              "      display: none;\n",
              "      fill: #1967D2;\n",
              "      height: 32px;\n",
              "      padding: 0 0 0 0;\n",
              "      width: 32px;\n",
              "    }\n",
              "\n",
              "    .colab-df-convert:hover {\n",
              "      background-color: #E2EBFA;\n",
              "      box-shadow: 0px 1px 2px rgba(60, 64, 67, 0.3), 0px 1px 3px 1px rgba(60, 64, 67, 0.15);\n",
              "      fill: #174EA6;\n",
              "    }\n",
              "\n",
              "    .colab-df-buttons div {\n",
              "      margin-bottom: 4px;\n",
              "    }\n",
              "\n",
              "    [theme=dark] .colab-df-convert {\n",
              "      background-color: #3B4455;\n",
              "      fill: #D2E3FC;\n",
              "    }\n",
              "\n",
              "    [theme=dark] .colab-df-convert:hover {\n",
              "      background-color: #434B5C;\n",
              "      box-shadow: 0px 1px 3px 1px rgba(0, 0, 0, 0.15);\n",
              "      filter: drop-shadow(0px 1px 2px rgba(0, 0, 0, 0.3));\n",
              "      fill: #FFFFFF;\n",
              "    }\n",
              "  </style>\n",
              "\n",
              "    <script>\n",
              "      const buttonEl =\n",
              "        document.querySelector('#df-b211d0c7-5320-420a-aee2-cf5b2233e1a0 button.colab-df-convert');\n",
              "      buttonEl.style.display =\n",
              "        google.colab.kernel.accessAllowed ? 'block' : 'none';\n",
              "\n",
              "      async function convertToInteractive(key) {\n",
              "        const element = document.querySelector('#df-b211d0c7-5320-420a-aee2-cf5b2233e1a0');\n",
              "        const dataTable =\n",
              "          await google.colab.kernel.invokeFunction('convertToInteractive',\n",
              "                                                    [key], {});\n",
              "        if (!dataTable) return;\n",
              "\n",
              "        const docLinkHtml = 'Like what you see? Visit the ' +\n",
              "          '<a target=\"_blank\" href=https://colab.research.google.com/notebooks/data_table.ipynb>data table notebook</a>'\n",
              "          + ' to learn more about interactive tables.';\n",
              "        element.innerHTML = '';\n",
              "        dataTable['output_type'] = 'display_data';\n",
              "        await google.colab.output.renderOutput(dataTable, element);\n",
              "        const docLink = document.createElement('div');\n",
              "        docLink.innerHTML = docLinkHtml;\n",
              "        element.appendChild(docLink);\n",
              "      }\n",
              "    </script>\n",
              "  </div>\n",
              "\n",
              "\n",
              "<div id=\"df-9174dfd0-da23-42e5-823c-c57cfb4acb4f\">\n",
              "  <button class=\"colab-df-quickchart\" onclick=\"quickchart('df-9174dfd0-da23-42e5-823c-c57cfb4acb4f')\"\n",
              "            title=\"Suggest charts\"\n",
              "            style=\"display:none;\">\n",
              "\n",
              "<svg xmlns=\"http://www.w3.org/2000/svg\" height=\"24px\"viewBox=\"0 0 24 24\"\n",
              "     width=\"24px\">\n",
              "    <g>\n",
              "        <path d=\"M19 3H5c-1.1 0-2 .9-2 2v14c0 1.1.9 2 2 2h14c1.1 0 2-.9 2-2V5c0-1.1-.9-2-2-2zM9 17H7v-7h2v7zm4 0h-2V7h2v10zm4 0h-2v-4h2v4z\"/>\n",
              "    </g>\n",
              "</svg>\n",
              "  </button>\n",
              "\n",
              "<style>\n",
              "  .colab-df-quickchart {\n",
              "      --bg-color: #E8F0FE;\n",
              "      --fill-color: #1967D2;\n",
              "      --hover-bg-color: #E2EBFA;\n",
              "      --hover-fill-color: #174EA6;\n",
              "      --disabled-fill-color: #AAA;\n",
              "      --disabled-bg-color: #DDD;\n",
              "  }\n",
              "\n",
              "  [theme=dark] .colab-df-quickchart {\n",
              "      --bg-color: #3B4455;\n",
              "      --fill-color: #D2E3FC;\n",
              "      --hover-bg-color: #434B5C;\n",
              "      --hover-fill-color: #FFFFFF;\n",
              "      --disabled-bg-color: #3B4455;\n",
              "      --disabled-fill-color: #666;\n",
              "  }\n",
              "\n",
              "  .colab-df-quickchart {\n",
              "    background-color: var(--bg-color);\n",
              "    border: none;\n",
              "    border-radius: 50%;\n",
              "    cursor: pointer;\n",
              "    display: none;\n",
              "    fill: var(--fill-color);\n",
              "    height: 32px;\n",
              "    padding: 0;\n",
              "    width: 32px;\n",
              "  }\n",
              "\n",
              "  .colab-df-quickchart:hover {\n",
              "    background-color: var(--hover-bg-color);\n",
              "    box-shadow: 0 1px 2px rgba(60, 64, 67, 0.3), 0 1px 3px 1px rgba(60, 64, 67, 0.15);\n",
              "    fill: var(--button-hover-fill-color);\n",
              "  }\n",
              "\n",
              "  .colab-df-quickchart-complete:disabled,\n",
              "  .colab-df-quickchart-complete:disabled:hover {\n",
              "    background-color: var(--disabled-bg-color);\n",
              "    fill: var(--disabled-fill-color);\n",
              "    box-shadow: none;\n",
              "  }\n",
              "\n",
              "  .colab-df-spinner {\n",
              "    border: 2px solid var(--fill-color);\n",
              "    border-color: transparent;\n",
              "    border-bottom-color: var(--fill-color);\n",
              "    animation:\n",
              "      spin 1s steps(1) infinite;\n",
              "  }\n",
              "\n",
              "  @keyframes spin {\n",
              "    0% {\n",
              "      border-color: transparent;\n",
              "      border-bottom-color: var(--fill-color);\n",
              "      border-left-color: var(--fill-color);\n",
              "    }\n",
              "    20% {\n",
              "      border-color: transparent;\n",
              "      border-left-color: var(--fill-color);\n",
              "      border-top-color: var(--fill-color);\n",
              "    }\n",
              "    30% {\n",
              "      border-color: transparent;\n",
              "      border-left-color: var(--fill-color);\n",
              "      border-top-color: var(--fill-color);\n",
              "      border-right-color: var(--fill-color);\n",
              "    }\n",
              "    40% {\n",
              "      border-color: transparent;\n",
              "      border-right-color: var(--fill-color);\n",
              "      border-top-color: var(--fill-color);\n",
              "    }\n",
              "    60% {\n",
              "      border-color: transparent;\n",
              "      border-right-color: var(--fill-color);\n",
              "    }\n",
              "    80% {\n",
              "      border-color: transparent;\n",
              "      border-right-color: var(--fill-color);\n",
              "      border-bottom-color: var(--fill-color);\n",
              "    }\n",
              "    90% {\n",
              "      border-color: transparent;\n",
              "      border-bottom-color: var(--fill-color);\n",
              "    }\n",
              "  }\n",
              "</style>\n",
              "\n",
              "  <script>\n",
              "    async function quickchart(key) {\n",
              "      const quickchartButtonEl =\n",
              "        document.querySelector('#' + key + ' button');\n",
              "      quickchartButtonEl.disabled = true;  // To prevent multiple clicks.\n",
              "      quickchartButtonEl.classList.add('colab-df-spinner');\n",
              "      try {\n",
              "        const charts = await google.colab.kernel.invokeFunction(\n",
              "            'suggestCharts', [key], {});\n",
              "      } catch (error) {\n",
              "        console.error('Error during call to suggestCharts:', error);\n",
              "      }\n",
              "      quickchartButtonEl.classList.remove('colab-df-spinner');\n",
              "      quickchartButtonEl.classList.add('colab-df-quickchart-complete');\n",
              "    }\n",
              "    (() => {\n",
              "      let quickchartButtonEl =\n",
              "        document.querySelector('#df-9174dfd0-da23-42e5-823c-c57cfb4acb4f button');\n",
              "      quickchartButtonEl.style.display =\n",
              "        google.colab.kernel.accessAllowed ? 'block' : 'none';\n",
              "    })();\n",
              "  </script>\n",
              "</div>\n",
              "\n",
              "    </div>\n",
              "  </div>\n"
            ],
            "application/vnd.google.colaboratory.intrinsic+json": {
              "type": "dataframe",
              "variable_name": "df",
              "summary": "{\n  \"name\": \"df\",\n  \"rows\": 295,\n  \"fields\": [\n    {\n      \"column\": \"Brand Name\",\n      \"properties\": {\n        \"dtype\": \"category\",\n        \"num_unique_values\": 55,\n        \"samples\": [\n          \"Proscenic\",\n          \"August\",\n          \"Honeywell\"\n        ],\n        \"semantic_type\": \"\",\n        \"description\": \"\"\n      }\n    },\n    {\n      \"column\": \"Price\",\n      \"properties\": {\n        \"dtype\": \"number\",\n        \"std\": 91,\n        \"min\": 0,\n        \"max\": 410,\n        \"num_unique_values\": 83,\n        \"samples\": [\n          99,\n          0,\n          138\n        ],\n        \"semantic_type\": \"\",\n        \"description\": \"\"\n      }\n    },\n    {\n      \"column\": \"Price_INR\",\n      \"properties\": {\n        \"dtype\": \"number\",\n        \"std\": 7676,\n        \"min\": 0,\n        \"max\": 34440,\n        \"num_unique_values\": 83,\n        \"samples\": [\n          8316,\n          0,\n          11592\n        ],\n        \"semantic_type\": \"\",\n        \"description\": \"\"\n      }\n    },\n    {\n      \"column\": \"Rating\",\n      \"properties\": {\n        \"dtype\": \"number\",\n        \"std\": 1.4724306828375857,\n        \"min\": 0.0,\n        \"max\": 5.0,\n        \"num_unique_values\": 22,\n        \"samples\": [\n          4.0,\n          3.9,\n          4.6\n        ],\n        \"semantic_type\": \"\",\n        \"description\": \"\"\n      }\n    },\n    {\n      \"column\": \"Rating Count\",\n      \"properties\": {\n        \"dtype\": \"number\",\n        \"std\": 2795,\n        \"min\": 0,\n        \"max\": 17929,\n        \"num_unique_values\": 168,\n        \"samples\": [\n          70,\n          93,\n          30\n        ],\n        \"semantic_type\": \"\",\n        \"description\": \"\"\n      }\n    },\n    {\n      \"column\": \"Review Count\",\n      \"properties\": {\n        \"dtype\": \"number\",\n        \"std\": 2795,\n        \"min\": 0,\n        \"max\": 17929,\n        \"num_unique_values\": 168,\n        \"samples\": [\n          70,\n          93,\n          30\n        ],\n        \"semantic_type\": \"\",\n        \"description\": \"\"\n      }\n    },\n    {\n      \"column\": \"Ranking\",\n      \"properties\": {\n        \"dtype\": \"number\",\n        \"std\": 14,\n        \"min\": 0,\n        \"max\": 58,\n        \"num_unique_values\": 59,\n        \"samples\": [\n          0,\n          7,\n          35\n        ],\n        \"semantic_type\": \"\",\n        \"description\": \"\"\n      }\n    },\n    {\n      \"column\": \"URL\",\n      \"properties\": {\n        \"dtype\": \"string\",\n        \"num_unique_values\": 261,\n        \"samples\": [\n          \"https://www.amazon.com/Kwikset-Single-Cylinder-Deadbolt-SmartKey/dp/B003APS8GK/ref=sr_1_59?crid=2A0VLCNI653XM&dib=eyJ2IjoiMSJ9.1cS6p9lRNT6emmJLf_qKZyJnXRjlnTKRKA28eL7wqI6vpND1bcbQbYS2BZLAgwaLrQq7ylOBpsvXyXocU7voG-mk0tMLpnIbVZ9KRMicEnJwtvB8rh7YbE5MMv7jPjwQi-8UmN_-QxNJARAJ3-HYDhPm9012qGtZak7Wx9DeLbYlHqV4esW4CVkSZScPc0mw8pgHtOvxlYQyqLR8ZA1NdLr1HNhoAiOknAa_dofr4uugwJ_xboPatWlGmok4hC4CqPu9aTFNSmmmKiBTwFqejmKarbp2vwmzysqrW6Q8UuE.QIoV7KNfM1M9bLDCRoCtkNzK4etNJlIyqk-sA9VuOjg&dib_tag=se&keywords=smart+lock&qid=1725439417&sprefix=smart+lock%2Caps%2C2815&sr=8-59\",\n          \"https://www.amazon.com/WiseGear-Keyless-Deadbolt-Fingerprint-Electronic/dp/B0D148W6RN/ref=sr_1_202?crid=2A0VLCNI653XM&dib=eyJ2IjoiMSJ9.P-0h_iTZZqfn3kmwrvD7YLnvS356vQrWW1NHX5B-0Ru4xak3fYMWB4ZgEXUUiTYbOZlm8iDEQfyjiOSQbp6lWuhUfh46VkdJ1zWvEZF-OLoRVYI7JyOfzwi2Rgf4cWbWf0TKxF5IfdCyqp3AkrIDHTAkjjswBi9NdwbUiHwx_7hfQgaByVYPrtZ_0833FHa7tCIYYRdQjg9cwlBlLK4IGXDYRXjiMk6AGHZDPeYHLUs.Au5nS-n3kzGSMgow9N8zcjR6vcdbjZT_WEuoSJ4BW0U&dib_tag=se&keywords=smart+lock&qid=1725439428&sprefix=smart+lock%2Caps%2C2815&sr=8-202\",\n          \"https://www.amazon.com/Keypad-Door-Lock-Handlesets-Hornbill/dp/B0CJC447SJ/ref=sr_1_260?crid=2A0VLCNI653XM&dib=eyJ2IjoiMSJ9.iHPO20jbowHA9TImGoyFzNgCINq0RWxEJWApZUBOGYM3wrmhndhxhi8YFQK3CVSvwU5B_30GjXHCbFcwMsKqnDgc2yOfF-z9Dm267hgOCyQLasTKsx23Lf0SHD6Ia8coV_SSBebq0zcXXduiHHFLqQKyG8G3Mos7-w_y9ooE9OqpfINWtqsTpavaavrit_nSbNLAGx7E92nrpEAHc5fE1ud9OWD5k7cuvRWXdY0QyhW3h1F_xfInaYFGvTY0Ky-8TgyvDVApG5Dvgrq5-3yAn3n3OcY6m96neTEzPJa8rRQ.JvyPs5urEjlMCW8rf_1YC1F5HtUnCO1JNKCmqwrp3dY&dib_tag=se&keywords=smart+lock&qid=1725439431&sprefix=smart+lock%2Caps%2C2815&sr=8-260\"\n        ],\n        \"semantic_type\": \"\",\n        \"description\": \"\"\n      }\n    }\n  ]\n}"
            }
          },
          "metadata": {},
          "execution_count": 2
        }
      ]
    },
    {
      "cell_type": "code",
      "source": [
        "#display the column info\n",
        "df.columns"
      ],
      "metadata": {
        "colab": {
          "base_uri": "https://localhost:8080/"
        },
        "id": "r4eN3aiRRFbw",
        "outputId": "87d25914-5a02-4f5e-eb00-db3819e4a790"
      },
      "execution_count": 3,
      "outputs": [
        {
          "output_type": "execute_result",
          "data": {
            "text/plain": [
              "Index(['Brand Name', 'Price', 'Price_INR', 'Rating', 'Rating Count',\n",
              "       'Review Count', 'Ranking', 'URL'],\n",
              "      dtype='object')"
            ]
          },
          "metadata": {},
          "execution_count": 3
        }
      ]
    },
    {
      "cell_type": "code",
      "source": [
        "#Display all distinct values in the 'Brand Name' column\n",
        "distinct_brands = df['Brand Name'].unique()\n",
        "print(\"Distinct Brand Names:\")\n",
        "for brand in distinct_brands:\n",
        "    print(brand)\n",
        "\n",
        "# Count the number of distinct values\n",
        "count_distinct_brands = df['Brand Name'].nunique()\n",
        "print(f\"\\nTotal number of distinct brands: {count_distinct_brands}\")"
      ],
      "metadata": {
        "colab": {
          "base_uri": "https://localhost:8080/"
        },
        "id": "SF7Jc4sDTqNU",
        "outputId": "6bae0e42-af18-4f14-b2f8-0921da891aec"
      },
      "execution_count": 4,
      "outputs": [
        {
          "output_type": "stream",
          "name": "stdout",
          "text": [
            "Distinct Brand Names:\n",
            "Not Available\n",
            "eufy\n",
            "TEEHO\n",
            "Yale\n",
            "Wyze\n",
            "August\n",
            "Keyless-Entry\n",
            "Schlage\n",
            "Veise\n",
            "Kwikset\n",
            "Google\n",
            "TMEZON\n",
            "Philips\n",
            "Aqara\n",
            "Smart\n",
            "Keyless\n",
            "Harfo\n",
            "ULTRALOQ\n",
            "SwitchBot\n",
            "Level\n",
            "Fingerprint\n",
            "Wi-Fi\n",
            "SCHLAGE\n",
            "WiFi\n",
            "Keypad\n",
            "ONERVA™\n",
            "Lockly\n",
            "HOSOM\n",
            "Hornbill\n",
            "Sifely\n",
            "TUYA\n",
            "Proscenic\n",
            "Honeywell\n",
            "Amazon\n",
            "Tuya\n",
            "VEVOR\n",
            "GeekTale\n",
            "Geek\n",
            "Commax\n",
            "MiLocks\n",
            "Camera\n",
            "FJM\n",
            "3-in-1\n",
            "KingForce\n",
            "Probrico\n",
            "SMONET\n",
            "MINIA\n",
            "YoLink\n",
            "52HZ\n",
            "Door\n",
            "KNOBWELL\n",
            "Electronic\n",
            "Foxgard\n",
            "Revolo\n",
            "GHome\n",
            "\n",
            "Total number of distinct brands: 55\n"
          ]
        }
      ]
    },
    {
      "cell_type": "markdown",
      "source": [
        "**Creating SQlite Database for Query Execution**"
      ],
      "metadata": {
        "id": "2YNhc6q1-ZON"
      }
    },
    {
      "cell_type": "code",
      "source": [
        "# Create an SQLite database in memory\n",
        "conn = sqlite3.connect(':memory:')\n",
        "\n",
        "# Load the DataFrame into the SQLite database\n",
        "df.to_sql('smart_locks', conn, index=False, if_exists='replace')\n",
        "\n",
        "# Create a cursor object\n",
        "cursor = conn.cursor()"
      ],
      "metadata": {
        "id": "GfAE9ybURHk8"
      },
      "execution_count": 5,
      "outputs": []
    },
    {
      "cell_type": "markdown",
      "source": [
        " **Calculate the Total No. of Distinct Brands including NaN**"
      ],
      "metadata": {
        "id": "s4K0kufaRtvS"
      }
    },
    {
      "cell_type": "code",
      "source": [
        "#Display all distinct values in the 'Brand Name' column\n",
        "distinct_brands = df['Brand Name'].unique()\n",
        "print(\"Distinct Brand Names:\")\n",
        "for brand in distinct_brands:\n",
        "    print(brand)\n",
        "\n",
        "# Count the number of distinct values\n",
        "count_distinct_brands = df['Brand Name'].nunique()\n",
        "print(f\"\\nTotal number of distinct brands: {count_distinct_brands}\")"
      ],
      "metadata": {
        "colab": {
          "base_uri": "https://localhost:8080/"
        },
        "id": "mxLNJhVUHZT8",
        "outputId": "aafeb78b-b726-4fa2-b78f-31b45194c8b6"
      },
      "execution_count": 6,
      "outputs": [
        {
          "output_type": "stream",
          "name": "stdout",
          "text": [
            "Distinct Brand Names:\n",
            "Not Available\n",
            "eufy\n",
            "TEEHO\n",
            "Yale\n",
            "Wyze\n",
            "August\n",
            "Keyless-Entry\n",
            "Schlage\n",
            "Veise\n",
            "Kwikset\n",
            "Google\n",
            "TMEZON\n",
            "Philips\n",
            "Aqara\n",
            "Smart\n",
            "Keyless\n",
            "Harfo\n",
            "ULTRALOQ\n",
            "SwitchBot\n",
            "Level\n",
            "Fingerprint\n",
            "Wi-Fi\n",
            "SCHLAGE\n",
            "WiFi\n",
            "Keypad\n",
            "ONERVA™\n",
            "Lockly\n",
            "HOSOM\n",
            "Hornbill\n",
            "Sifely\n",
            "TUYA\n",
            "Proscenic\n",
            "Honeywell\n",
            "Amazon\n",
            "Tuya\n",
            "VEVOR\n",
            "GeekTale\n",
            "Geek\n",
            "Commax\n",
            "MiLocks\n",
            "Camera\n",
            "FJM\n",
            "3-in-1\n",
            "KingForce\n",
            "Probrico\n",
            "SMONET\n",
            "MINIA\n",
            "YoLink\n",
            "52HZ\n",
            "Door\n",
            "KNOBWELL\n",
            "Electronic\n",
            "Foxgard\n",
            "Revolo\n",
            "GHome\n",
            "\n",
            "Total number of distinct brands: 55\n"
          ]
        }
      ]
    },
    {
      "cell_type": "code",
      "source": [
        "#SQL query to fetch distinct brands\n",
        "query_a = \"\"\"SELECT COUNT(DISTINCT [Brand Name]) AS Number_of_Brands FROM smart_locks\n",
        "WHERE [Brand Name] IS NOT NULL AND [Brand Name] !='Not Available';\"\"\"\n",
        "#query execution step\n",
        "cursor.execute(query_a)\n",
        "result_a = cursor.fetchone()\n",
        "#display the result\n",
        "print(f\"Number of Brands: {result_a[0]}\")"
      ],
      "metadata": {
        "colab": {
          "base_uri": "https://localhost:8080/"
        },
        "id": "FeJedXJ2RZrQ",
        "outputId": "1eb70bba-699b-42f9-e944-bb3c90d17da7"
      },
      "execution_count": 6,
      "outputs": [
        {
          "output_type": "stream",
          "name": "stdout",
          "text": [
            "Number of Brands: 54\n"
          ]
        }
      ]
    },
    {
      "cell_type": "markdown",
      "source": [
        "###### **SQL generates case sensitive results hence, normalising brand names so that unique count is obtained**"
      ],
      "metadata": {
        "id": "U4Zki0LQ_8rM"
      }
    },
    {
      "cell_type": "code",
      "source": [
        "# SQL query to update the brand name\n",
        "\n",
        "# cursor.execute(\"UPDATE smart_locks SET [Brand Name] = 'Wi-Fi' WHERE [Brand Name] IN ('Wifi', 'Wi-Fi');\")\n",
        "# conn.commit()\n",
        "\n",
        "# cursor.execute(\"UPDATE smart_locks SET [Brand Name] = 'Tuya' WHERE [Brand Name] = 'TUYA';\")\n",
        "# conn.commit()\n",
        "\n",
        "# cursor.execute(\"UPDATE smart_locks SET [Brand Name] = 'Schlage' WHERE [Brand Name] = 'SCHLAGE';\")\n",
        "# conn.commit()\n",
        "\n",
        "# # Update doesn't return rows so just print the execution\n",
        "# print(\"Update successful.\")"
      ],
      "metadata": {
        "id": "aYzAEDJacPxC"
      },
      "execution_count": 15,
      "outputs": []
    },
    {
      "cell_type": "markdown",
      "source": [
        "######  **Count of Distinct brands in Python**"
      ],
      "metadata": {
        "id": "COoPRE64b7Qn"
      }
    },
    {
      "cell_type": "code",
      "source": [
        "#Removing leading or trailing whitespaces\n",
        "df['Brand Name'] = df['Brand Name'].str.strip()\n",
        "\n",
        "#Rechecking the distinct brand names\n",
        "distinct_brands = df['Brand Name'].unique()\n",
        "\n",
        "#Display distinct brand names excluding 'Not Available'\n",
        "print(\"Distinct Brand Names:\")\n",
        "for brand in distinct_brands:\n",
        "    if brand != 'Not Available':\n",
        "        print(brand)\n",
        "\n",
        "#Re-count the distinct values excluding 'Not Available'\n",
        "count_distinct_brands = df[df['Brand Name'] != 'Not Available']['Brand Name'].nunique()\n",
        "print(f\"\\nTotal number of distinct brands: {count_distinct_brands}\")\n"
      ],
      "metadata": {
        "colab": {
          "base_uri": "https://localhost:8080/"
        },
        "id": "0_wDRiQ_Hgbo",
        "outputId": "f14e462a-86e5-43b1-9195-ecb1f1d885c0"
      },
      "execution_count": 16,
      "outputs": [
        {
          "output_type": "stream",
          "name": "stdout",
          "text": [
            "Distinct Brand Names:\n",
            "Eufy\n",
            "Teeho\n",
            "Yale\n",
            "Wyze\n",
            "August\n",
            "Keyless-Entry\n",
            "Schlage\n",
            "Veise\n",
            "Kwikset\n",
            "Google\n",
            "Tmezon\n",
            "Philips\n",
            "Aqara\n",
            "Smart\n",
            "Keyless\n",
            "Harfo\n",
            "Ultraloq\n",
            "Switchbot\n",
            "Level\n",
            "Fingerprint\n",
            "Wi-Fi\n",
            "Keypad\n",
            "Onerva™\n",
            "Lockly\n",
            "Hosom\n",
            "Hornbill\n",
            "Sifely\n",
            "Tuya\n",
            "Proscenic\n",
            "Honeywell\n",
            "Amazon\n",
            "Vevor\n",
            "Geektale\n",
            "Geek\n",
            "Commax\n",
            "Milocks\n",
            "Camera\n",
            "Fjm\n",
            "3-In-1\n",
            "Kingforce\n",
            "Probrico\n",
            "Smonet\n",
            "Minia\n",
            "Yolink\n",
            "52Hz\n",
            "Door\n",
            "Knobwell\n",
            "Electronic\n",
            "Foxgard\n",
            "Revolo\n",
            "Ghome\n",
            "\n",
            "Total number of distinct brands: 51\n"
          ]
        }
      ]
    },
    {
      "cell_type": "markdown",
      "source": [
        "**Query 1: Re-running the query after making the necessary changes in the Brand values**"
      ],
      "metadata": {
        "id": "7wBRQsBCdWe1"
      }
    },
    {
      "cell_type": "code",
      "source": [
        "cursor.execute(\"UPDATE smart_locks SET [Brand Name] = 'Wi-Fi' WHERE [Brand Name] IN ('WiFi', 'Wi-Fi');\")\n",
        "conn.commit()\n",
        "\n",
        "cursor.execute(\"UPDATE smart_locks SET [Brand Name] = 'Tuya' WHERE [Brand Name] = 'TUYA';\")\n",
        "conn.commit()\n",
        "\n",
        "cursor.execute(\"UPDATE smart_locks SET [Brand Name] = 'Schlage' WHERE [Brand Name] = 'SCHLAGE';\")\n",
        "conn.commit()\n",
        "\n",
        "# Update doesn't return rows so just print the execution\n",
        "print(\"Update successful.\")\n",
        "\n",
        "# Re-fetch the data from the SQL database to reflect the updates\n",
        "df = pd.read_sql(\"SELECT * FROM smart_locks\", conn)\n",
        "\n",
        "#SQL query to fetch distinct brands\n",
        "query_a = \"\"\"SELECT COUNT(DISTINCT [Brand Name]) AS Number_of_Brands FROM smart_locks\n",
        "WHERE [Brand Name] IS NOT NULL AND [Brand Name] !='Not Available';\"\"\"\n",
        "#query execution step\n",
        "cursor.execute(query_a)\n",
        "result_a = cursor.fetchone()\n",
        "#display the result\n",
        "print(f\"Number of Brands: {result_a[0]}\")\n",
        "\n",
        "# distinct_brands = df['Brand Name'].unique()\n",
        "# print(\"Distinct Brand Names:\")\n",
        "# for brand in distinct_brands:\n",
        "#   if brand !='Not Available':\n",
        "#     print(brand)"
      ],
      "metadata": {
        "colab": {
          "base_uri": "https://localhost:8080/"
        },
        "id": "DBnZHs0udTzZ",
        "outputId": "7248512b-efd7-4bba-f950-6d870683ada1"
      },
      "execution_count": 17,
      "outputs": [
        {
          "output_type": "stream",
          "name": "stdout",
          "text": [
            "Update successful.\n",
            "Number of Brands: 51\n"
          ]
        }
      ]
    },
    {
      "cell_type": "markdown",
      "source": [
        "**Total Unique Brands of Smart locks are 51.**"
      ],
      "metadata": {
        "id": "gsqTLiSEaEVT"
      }
    },
    {
      "cell_type": "markdown",
      "source": [
        "**Query 2: Compute the Count of SKUs per Brand**"
      ],
      "metadata": {
        "id": "bD_FRtzHR2t6"
      }
    },
    {
      "cell_type": "code",
      "source": [
        "#Fetch the Count of SKUs per brand\n",
        "query_b = \"\"\"\n",
        "SELECT [Brand Name], COUNT(*) AS SKU_Count\n",
        "FROM smart_locks\n",
        "GROUP BY [Brand Name]\n",
        "ORDER BY SKU_Count DESC;\n",
        "\"\"\"\n",
        "#query execution step\n",
        "cursor.execute(query_b)\n",
        "result_b = cursor.fetchall()\n",
        "#display the result\n",
        "print(\"Count of SKUs per Brand:\")\n",
        "for row in result_b:\n",
        "    print(row)"
      ],
      "metadata": {
        "colab": {
          "base_uri": "https://localhost:8080/"
        },
        "id": "PyIaLTOuR1ed",
        "outputId": "287b62fd-d2b8-4154-ca51-4d6d554ac895"
      },
      "execution_count": 18,
      "outputs": [
        {
          "output_type": "stream",
          "name": "stdout",
          "text": [
            "Count of SKUs per Brand:\n",
            "('Not Available', 54)\n",
            "('Smart', 38)\n",
            "('Keyless', 26)\n",
            "('Veise', 25)\n",
            "('Yale', 15)\n",
            "('Kwikset', 14)\n",
            "('Fingerprint', 11)\n",
            "('Wi-Fi', 10)\n",
            "('Ultraloq', 8)\n",
            "('Teeho', 7)\n",
            "('Keypad', 7)\n",
            "('Sifely', 5)\n",
            "('Schlage', 5)\n",
            "('Lockly', 5)\n",
            "('Keyless-Entry', 5)\n",
            "('Door', 5)\n",
            "('Level', 4)\n",
            "('Eufy', 4)\n",
            "('Google', 3)\n",
            "('Geektale', 3)\n",
            "('Aqara', 3)\n",
            "('Wyze', 2)\n",
            "('Tuya', 2)\n",
            "('Switchbot', 2)\n",
            "('Proscenic', 2)\n",
            "('Knobwell', 2)\n",
            "('Hornbill', 2)\n",
            "('August', 2)\n",
            "('Yolink', 1)\n",
            "('Vevor', 1)\n",
            "('Tmezon', 1)\n",
            "('Smonet', 1)\n",
            "('Revolo', 1)\n",
            "('Probrico', 1)\n",
            "('Philips', 1)\n",
            "('Onerva™', 1)\n",
            "('Minia', 1)\n",
            "('Milocks', 1)\n",
            "('Kingforce', 1)\n",
            "('Hosom', 1)\n",
            "('Honeywell', 1)\n",
            "('Harfo', 1)\n",
            "('Ghome', 1)\n",
            "('Geek', 1)\n",
            "('Foxgard', 1)\n",
            "('Fjm', 1)\n",
            "('Electronic', 1)\n",
            "('Commax', 1)\n",
            "('Camera', 1)\n",
            "('Amazon', 1)\n",
            "('52Hz', 1)\n",
            "('3-In-1', 1)\n"
          ]
        }
      ]
    },
    {
      "cell_type": "markdown",
      "source": [
        "**Query 3: Compute the Relative Ranking of brands wrt the Ranking of their SKUs:**"
      ],
      "metadata": {
        "id": "H_QC3NFOSC2u"
      }
    },
    {
      "cell_type": "code",
      "source": [
        "query_c = \"\"\"\n",
        "SELECT [Brand Name],\n",
        "      ROUND(AVG(Ranking),2) AS Relative_Ranking\n",
        "FROM smart_locks\n",
        "GROUP BY [Brand Name]\n",
        "ORDER BY Relative_Ranking ASC;\n",
        "\"\"\"\n",
        "#query execution step\n",
        "cursor.execute(query_c)\n",
        "result_c = cursor.fetchall()\n",
        "\n",
        "# Convert the result to a DataFrame\n",
        "df = pd.DataFrame(result_c, columns=['Brand Name', 'Relative_Ranking'])\n",
        "\n",
        "# Display only the top 5 brands\n",
        "top_5_brands = df.head(5)\n",
        "print(\"Top 5 Brands with Lowest Relative Ranking:\")\n",
        "print(top_5_brands)\n",
        "#display the overall result\n",
        "print(\"Relative Ranking of Brands:\")\n",
        "for row in result_c:\n",
        "    print(row)"
      ],
      "metadata": {
        "colab": {
          "base_uri": "https://localhost:8080/"
        },
        "id": "_0i7Doz2SOry",
        "outputId": "b71950ed-08e6-40aa-fea1-ae6052bb5f8a"
      },
      "execution_count": 19,
      "outputs": [
        {
          "output_type": "stream",
          "name": "stdout",
          "text": [
            "Top 5 Brands with Lowest Relative Ranking:\n",
            "  Brand Name  Relative_Ranking\n",
            "0       52Hz               3.0\n",
            "1     Amazon               4.0\n",
            "2       Geek               5.0\n",
            "3  Proscenic               5.0\n",
            "4   Knobwell               8.5\n",
            "Relative Ranking of Brands:\n",
            "('52Hz', 3.0)\n",
            "('Amazon', 4.0)\n",
            "('Geek', 5.0)\n",
            "('Proscenic', 5.0)\n",
            "('Knobwell', 8.5)\n",
            "('Door', 9.0)\n",
            "('Harfo', 9.0)\n",
            "('Electronic', 12.0)\n",
            "('Teeho', 12.29)\n",
            "('Commax', 13.0)\n",
            "('Ghome', 13.0)\n",
            "('Keyless-Entry', 13.0)\n",
            "('Yale', 13.93)\n",
            "('Foxgard', 14.0)\n",
            "('Wyze', 14.5)\n",
            "('Eufy', 15.5)\n",
            "('August', 16.5)\n",
            "('Schlage', 17.8)\n",
            "('Milocks', 18.0)\n",
            "('Onerva™', 18.0)\n",
            "('Tmezon', 18.0)\n",
            "('Vevor', 18.0)\n",
            "('Camera', 19.0)\n",
            "('Switchbot', 19.0)\n",
            "('Honeywell', 20.0)\n",
            "('Philips', 20.0)\n",
            "('Not Available', 20.56)\n",
            "('Keyless', 22.19)\n",
            "('Smart', 22.39)\n",
            "('Lockly', 23.8)\n",
            "('Sifely', 23.8)\n",
            "('Keypad', 23.86)\n",
            "('Fingerprint', 23.91)\n",
            "('Revolo', 24.0)\n",
            "('Hosom', 25.0)\n",
            "('Kwikset', 25.57)\n",
            "('Geektale', 25.67)\n",
            "('Aqara', 26.0)\n",
            "('Fjm', 26.0)\n",
            "('Google', 26.67)\n",
            "('Ultraloq', 27.38)\n",
            "('3-In-1', 29.0)\n",
            "('Veise', 29.16)\n",
            "('Wi-Fi', 30.3)\n",
            "('Tuya', 31.5)\n",
            "('Level', 32.0)\n",
            "('Kingforce', 33.0)\n",
            "('Hornbill', 35.5)\n",
            "('Probrico', 36.0)\n",
            "('Smonet', 38.0)\n",
            "('Minia', 42.0)\n",
            "('Yolink', 50.0)\n"
          ]
        }
      ]
    },
    {
      "cell_type": "markdown",
      "source": [
        "**Query 4: Compute the Relative Rating of brands wrt the Rating of their SKUs:**"
      ],
      "metadata": {
        "id": "OshUhcKBShb-"
      }
    },
    {
      "cell_type": "code",
      "source": [
        "query_d = \"\"\"\n",
        "SELECT [Brand Name],\n",
        "       ROUND(AVG(Rating),2) AS Relative_Rating\n",
        "FROM smart_locks\n",
        "GROUP BY [Brand Name]\n",
        "ORDER BY Relative_Rating DESC;\n",
        "\"\"\"\n",
        "#query execution step\n",
        "cursor.execute(query_d)\n",
        "result_d = cursor.fetchall()\n",
        "\n",
        "#display the result\n",
        "print(\"Relative Rating of Brands:\")\n",
        "for row in result_d:\n",
        "    print(row)"
      ],
      "metadata": {
        "colab": {
          "base_uri": "https://localhost:8080/"
        },
        "id": "HhLEKRbPSsk8",
        "outputId": "623910a1-aa1e-49a9-8773-f0d4551694db"
      },
      "execution_count": 20,
      "outputs": [
        {
          "output_type": "stream",
          "name": "stdout",
          "text": [
            "Relative Rating of Brands:\n",
            "('Probrico', 5.0)\n",
            "('Knobwell', 5.0)\n",
            "('Onerva™', 4.9)\n",
            "('Electronic', 4.9)\n",
            "('Foxgard', 4.8)\n",
            "('Geek', 4.7)\n",
            "('Wyze', 4.5)\n",
            "('Philips', 4.5)\n",
            "('Wi-Fi', 4.44)\n",
            "('Sifely', 4.44)\n",
            "('Keypad', 4.44)\n",
            "('Keyless-Entry', 4.44)\n",
            "('Veise', 4.38)\n",
            "('Teeho', 4.36)\n",
            "('Schlage', 4.36)\n",
            "('Hornbill', 4.35)\n",
            "('Keyless', 4.34)\n",
            "('Smonet', 4.3)\n",
            "('Harfo', 4.3)\n",
            "('Eufy', 4.3)\n",
            "('Smart', 4.28)\n",
            "('Kwikset', 4.28)\n",
            "('Lockly', 4.26)\n",
            "('Yolink', 4.2)\n",
            "('Tmezon', 4.2)\n",
            "('Switchbot', 4.2)\n",
            "('Revolo', 4.2)\n",
            "('August', 4.2)\n",
            "('Aqara', 4.2)\n",
            "('Proscenic', 4.15)\n",
            "('Door', 4.12)\n",
            "('Vevor', 4.1)\n",
            "('Ultraloq', 4.1)\n",
            "('Kingforce', 4.1)\n",
            "('Honeywell', 4.1)\n",
            "('Google', 4.03)\n",
            "('Yale', 4.01)\n",
            "('Milocks', 3.9)\n",
            "('Hosom', 3.9)\n",
            "('52Hz', 3.9)\n",
            "('Tuya', 3.85)\n",
            "('Amazon', 3.7)\n",
            "('Level', 3.65)\n",
            "('Minia', 3.5)\n",
            "('3-In-1', 3.5)\n",
            "('Fingerprint', 3.44)\n",
            "('Camera', 3.3)\n",
            "('Geektale', 3.03)\n",
            "('Fjm', 2.2)\n",
            "('Not Available', 1.66)\n",
            "('Ghome', 0.0)\n",
            "('Commax', 0.0)\n"
          ]
        }
      ]
    },
    {
      "cell_type": "markdown",
      "source": [
        "**Query 5: Calculate the distribution of SKUs across different Price Bands:**"
      ],
      "metadata": {
        "id": "ep3mRUvTS1sf"
      }
    },
    {
      "cell_type": "code",
      "source": [
        "#price Band per SKU with Common Table expressions CTEs\n",
        "query_e=\"\"\"WITH PriceBand_CTE AS (\n",
        "    SELECT\n",
        "        CASE\n",
        "            WHEN Price_INR < 4999 THEN '<INR 4999'\n",
        "            WHEN Price_INR BETWEEN 3000 AND 4999 THEN 'INR 3000-4999'\n",
        "            WHEN Price_INR BETWEEN 5000 AND 9999 THEN 'INR 5000-9999'\n",
        "            WHEN Price_INR BETWEEN 10000 AND 14999 THEN 'INR 10000-14999'\n",
        "            WHEN Price_INR BETWEEN 15000 AND 19999 THEN 'INR 15000-19999'\n",
        "            ELSE 'Greater than 20000'\n",
        "        END AS Price_Band\n",
        "    FROM smart_locks\n",
        ")\n",
        "SELECT\n",
        "    Price_Band,\n",
        "    COUNT(*) AS SKU_Count\n",
        "FROM PriceBand_CTE\n",
        "GROUP BY Price_Band\n",
        "ORDER BY\n",
        "    CASE\n",
        "        WHEN Price_Band = '<INR 4999' THEN 1\n",
        "        WHEN Price_Band = 'INR 3000-4999' THEN 2\n",
        "        WHEN Price_Band = 'INR 5000-9999' THEN 3\n",
        "        WHEN Price_Band = 'INR 10000-14999' THEN 4\n",
        "        WHEN Price_Band = 'INR 15000-19999' THEN 5\n",
        "        ELSE 6\n",
        "    END;\n",
        "  \"\"\"\n",
        "#query execution step\n",
        "cursor.execute(query_e)\n",
        "result_e = cursor.fetchall()\n",
        "\n",
        "#display the result\n",
        "print(\"Distribution of SKUs across Price Bands:\")\n",
        "for row in result_e:\n",
        "    print(row)\n"
      ],
      "metadata": {
        "colab": {
          "base_uri": "https://localhost:8080/"
        },
        "id": "NK7M7-r2S9nO",
        "outputId": "9a11f8c9-1709-43c4-95a4-56fbf0e2dc06"
      },
      "execution_count": 21,
      "outputs": [
        {
          "output_type": "stream",
          "name": "stdout",
          "text": [
            "Distribution of SKUs across Price Bands:\n",
            "('<INR 4999', 85)\n",
            "('INR 5000-9999', 82)\n",
            "('INR 10000-14999', 68)\n",
            "('INR 15000-19999', 28)\n",
            "('Greater than 20000', 32)\n"
          ]
        }
      ]
    },
    {
      "cell_type": "markdown",
      "source": [
        "**Visualising the Data**"
      ],
      "metadata": {
        "id": "aFI_B-sxTqWu"
      }
    },
    {
      "cell_type": "markdown",
      "source": [
        "##### 1. Visualise the Top 5 Brands"
      ],
      "metadata": {
        "id": "OaqSCE1iT0Lq"
      }
    },
    {
      "cell_type": "code",
      "source": [
        "import matplotlib.pyplot as plt\n",
        "\n",
        "# Set the figure size (width, height) in inches\n",
        "plt.figure(figsize=(6, 4))\n",
        "\n",
        "# Plotting the data\n",
        "plt.bar(top_5_brands['Brand Name'], top_5_brands['Relative_Ranking'], color='#6A0D91')\n",
        "\n",
        "# Adding labels & Title\n",
        "plt.xlabel('Brand')\n",
        "plt.ylabel('Relative Ranking')\n",
        "plt.title('Top 5 Brands with Lowest Relative Ranking')\n",
        "\n",
        "# Display the plot\n",
        "plt.show()"
      ],
      "metadata": {
        "colab": {
          "base_uri": "https://localhost:8080/",
          "height": 410
        },
        "id": "rwUcc-3QTwEl",
        "outputId": "186ce69c-c9c1-450a-d5b4-93d8ea57f89d"
      },
      "execution_count": 22,
      "outputs": [
        {
          "output_type": "display_data",
          "data": {
            "text/plain": [
              "<Figure size 600x400 with 1 Axes>"
            ],
            "image/png": "[encoded data removed]"
          },
          "metadata": {}
        }
      ]
    },
    {
      "cell_type": "markdown",
      "source": [
        "**The Brands with lowest Relative Ranking appear to be most Popular on the Web Page. Hence, KNOBWELL, Proscenic, Geek Brand, Amazon. 52HZ are the Top 5 Brands on Amazon.**"
      ],
      "metadata": {
        "id": "8T6pmoZ-bl3t"
      }
    },
    {
      "cell_type": "markdown",
      "source": [
        "## **2. Visualise the Price Distribution of SKUs**"
      ],
      "metadata": {
        "id": "aaEPxaxTUAiv"
      }
    },
    {
      "cell_type": "code",
      "source": [
        "import matplotlib.pyplot as plt\n",
        "\n",
        "#converting the result_e to dataframe to make sure that the graph has been plotted\n",
        "df = pd.DataFrame(result_e, columns=['Price_Band', 'SKU_Count'])\n",
        "\n",
        "# Set the figure size\n",
        "plt.figure(figsize=(8, 5))\n",
        "\n",
        "# Plotting the data\n",
        "plt.plot(df['Price_Band'], df['SKU_Count'], color='#6A0D91')\n",
        "\n",
        "# Adding labels and title\n",
        "plt.xlabel('Price Band')\n",
        "plt.ylabel('SKU Count')\n",
        "plt.title('Price Distribution of SKUs')\n",
        "\n",
        "# Display the plot\n",
        "plt.show()\n"
      ],
      "metadata": {
        "colab": {
          "base_uri": "https://localhost:8080/",
          "height": 487
        },
        "id": "1-GBki-8Ua8g",
        "outputId": "ad3b81f3-a203-470e-d374-ff7f31bbcaa4"
      },
      "execution_count": 23,
      "outputs": [
        {
          "output_type": "display_data",
          "data": {
            "text/plain": [
              "<Figure size 800x500 with 1 Axes>"
            ],
            "image/png": "[encoded data removed]"
          },
          "metadata": {}
        }
      ]
    },
    {
      "cell_type": "markdown",
      "source": [
        "## **3. Visualise the Top 5 Products with Highest Relative Ranking.**"
      ],
      "metadata": {
        "id": "JNuxHhOrjNfz"
      }
    },
    {
      "cell_type": "code",
      "source": [
        "import matplotlib.pyplot as plt\n",
        "import sqlite3\n",
        "\n",
        "# data from query 4\n",
        "data = [\n",
        "    ('probrico', 5.0),\n",
        "('knobwell', 5.0),\n",
        "('onerva™', 4.9),\n",
        "('electronic', 4.9),\n",
        "('foxgard', 4.8),\n",
        "('geek', 4.7)\n",
        "]\n",
        "\n",
        "# Sort data by Relative_Rating in descending order\n",
        "sorted_data = sorted(data, key=lambda x: x[1], reverse=True)\n",
        "\n",
        "# Get top 5 highest relative ratings\n",
        "top_5 = sorted_data[:5]\n",
        "\n",
        "# Extract brand names and ratings\n",
        "brands = [item[0] for item in top_5]\n",
        "ratings = [item[1] for item in top_5]\n",
        "\n",
        "# Plotting the graph\n",
        "plt.figure(figsize=(8, 5))\n",
        "bars = plt.bar(brands, ratings, color=['#003f5c', '#005b96', '#0072b5', '#0096c7', '#00b4d8'])\n",
        "\n",
        "# Adding titles and labels\n",
        "plt.xlabel('Brand Name')\n",
        "plt.ylabel('Relative Rating')\n",
        "plt.title('Top 5 Brands by Highest Relative Rating')\n",
        "\n",
        "# Display values on bars\n",
        "for bar in bars:\n",
        "    yval = bar.get_height()\n",
        "    plt.text(bar.get_x() + bar.get_width()/2.0, yval, round(yval, 2), ha='center', va='bottom')\n",
        "\n",
        "plt.show()\n"
      ],
      "metadata": {
        "colab": {
          "base_uri": "https://localhost:8080/",
          "height": 487
        },
        "id": "xklyKAL9jlRl",
        "outputId": "4735be6a-d195-495f-c965-75fa4db826dc"
      },
      "execution_count": 24,
      "outputs": [
        {
          "output_type": "display_data",
          "data": {
            "text/plain": [
              "<Figure size 800x500 with 1 Axes>"
            ],
            "image/png": "[encoded data removed]"
          },
          "metadata": {}
        }
      ]
    }
  ]
}